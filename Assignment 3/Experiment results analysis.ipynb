{
 "cells": [
  {
   "cell_type": "code",
   "execution_count": 2,
   "metadata": {},
   "outputs": [],
   "source": [
    "import pandas as pd\n",
    "import numpy as np\n",
    "import matplotlib.pyplot as plt\n",
    "import seaborn as sns"
   ]
  },
  {
   "cell_type": "code",
   "execution_count": 2,
   "metadata": {},
   "outputs": [
    {
     "name": "stdout",
     "output_type": "stream",
     "text": [
      "__pycache__\n",
      "~$CS7015.docx\n",
      "~$Doc1.docx\n",
      "1. Transfer learning results analysis.ipynb\n",
      "1. Transfer learning.py\n",
      "1.1_No_pretrain_large_224.csv\n",
      "1.1_No_pretrain_large_32.csv\n",
      "1.2_pretrain_large_224.csv\n",
      "1.2_pretrain_large_32.csv\n",
      "2.1 and 2.2 Data augmentation.py\n",
      "2.1_2.2_tiny_224_aug.csv\n",
      "2.1_No_pretrain_32_tiny_aug_1.csv\n",
      "2.1_No_pretrain_32_tiny_aug_2.csv\n",
      "2.1_No_pretrain_32_tiny_aug_3.csv\n",
      "2.3 Dropout.py\n",
      "2.3_tiny_224_DO.csv\n",
      "Assignment 1\n",
      "Assignment 2\n",
      "Assignment 3\n",
      "Assn2.docx\n",
      "CS7015.docx\n",
      "csv_results\n",
      "data\n",
      "models\n",
      "runs\n",
      "train_test_1.png\n",
      "train_test_2.png\n",
      "transforms tried.txt\n"
     ]
    }
   ],
   "source": [
    "!ls"
   ]
  },
  {
   "cell_type": "markdown",
   "metadata": {},
   "source": [
    "### Pick 1.1 csv results file for 32x32 or 224x224"
   ]
  },
  {
   "cell_type": "code",
   "execution_count": 37,
   "metadata": {},
   "outputs": [],
   "source": [
    "data = pd.read_csv(\"1.1_No_pretrain_large_224.csv\")\n",
    "# data = pd.read_csv(\"1.1_No_pretrain_large_32.csv\")"
   ]
  },
  {
   "cell_type": "code",
   "execution_count": 38,
   "metadata": {},
   "outputs": [
    {
     "data": {
      "text/html": [
       "<div>\n",
       "<style scoped>\n",
       "    .dataframe tbody tr th:only-of-type {\n",
       "        vertical-align: middle;\n",
       "    }\n",
       "\n",
       "    .dataframe tbody tr th {\n",
       "        vertical-align: top;\n",
       "    }\n",
       "\n",
       "    .dataframe thead th {\n",
       "        text-align: right;\n",
       "    }\n",
       "</style>\n",
       "<table border=\"1\" class=\"dataframe\">\n",
       "  <thead>\n",
       "    <tr style=\"text-align: right;\">\n",
       "      <th></th>\n",
       "      <th>run</th>\n",
       "      <th>epoch</th>\n",
       "      <th>loss</th>\n",
       "      <th>train_accuracy</th>\n",
       "      <th>epoch duration</th>\n",
       "      <th>run duration</th>\n",
       "      <th>test_accuracy</th>\n",
       "      <th>total parameters</th>\n",
       "      <th>lr</th>\n",
       "      <th>batch_size</th>\n",
       "      <th>momentum</th>\n",
       "      <th>weight_decay</th>\n",
       "      <th>pretrained</th>\n",
       "      <th>overfit%</th>\n",
       "    </tr>\n",
       "  </thead>\n",
       "  <tbody>\n",
       "    <tr>\n",
       "      <th>0</th>\n",
       "      <td>1</td>\n",
       "      <td>1</td>\n",
       "      <td>1.448762</td>\n",
       "      <td>0.47418</td>\n",
       "      <td>460.524298</td>\n",
       "      <td>463.132570</td>\n",
       "      <td>0.6184</td>\n",
       "      <td>11181642</td>\n",
       "      <td>0.01</td>\n",
       "      <td>32</td>\n",
       "      <td>0.9</td>\n",
       "      <td>0.001</td>\n",
       "      <td>[False]</td>\n",
       "      <td>0.000</td>\n",
       "    </tr>\n",
       "    <tr>\n",
       "      <th>1</th>\n",
       "      <td>1</td>\n",
       "      <td>2</td>\n",
       "      <td>0.863842</td>\n",
       "      <td>0.69638</td>\n",
       "      <td>461.061224</td>\n",
       "      <td>959.120229</td>\n",
       "      <td>0.7357</td>\n",
       "      <td>11181642</td>\n",
       "      <td>0.01</td>\n",
       "      <td>32</td>\n",
       "      <td>0.9</td>\n",
       "      <td>0.001</td>\n",
       "      <td>[False]</td>\n",
       "      <td>0.000</td>\n",
       "    </tr>\n",
       "    <tr>\n",
       "      <th>2</th>\n",
       "      <td>1</td>\n",
       "      <td>3</td>\n",
       "      <td>0.625940</td>\n",
       "      <td>0.78278</td>\n",
       "      <td>462.776151</td>\n",
       "      <td>1457.050359</td>\n",
       "      <td>0.7732</td>\n",
       "      <td>11181642</td>\n",
       "      <td>0.01</td>\n",
       "      <td>32</td>\n",
       "      <td>0.9</td>\n",
       "      <td>0.001</td>\n",
       "      <td>[False]</td>\n",
       "      <td>0.958</td>\n",
       "    </tr>\n",
       "    <tr>\n",
       "      <th>3</th>\n",
       "      <td>1</td>\n",
       "      <td>4</td>\n",
       "      <td>0.485208</td>\n",
       "      <td>0.83296</td>\n",
       "      <td>450.189462</td>\n",
       "      <td>1944.048155</td>\n",
       "      <td>0.7775</td>\n",
       "      <td>11181642</td>\n",
       "      <td>0.01</td>\n",
       "      <td>32</td>\n",
       "      <td>0.9</td>\n",
       "      <td>0.001</td>\n",
       "      <td>[False]</td>\n",
       "      <td>5.546</td>\n",
       "    </tr>\n",
       "    <tr>\n",
       "      <th>4</th>\n",
       "      <td>1</td>\n",
       "      <td>5</td>\n",
       "      <td>0.382044</td>\n",
       "      <td>0.86954</td>\n",
       "      <td>451.990056</td>\n",
       "      <td>2434.763641</td>\n",
       "      <td>0.7795</td>\n",
       "      <td>11181642</td>\n",
       "      <td>0.01</td>\n",
       "      <td>32</td>\n",
       "      <td>0.9</td>\n",
       "      <td>0.001</td>\n",
       "      <td>[False]</td>\n",
       "      <td>9.004</td>\n",
       "    </tr>\n",
       "  </tbody>\n",
       "</table>\n",
       "</div>"
      ],
      "text/plain": [
       "   run  epoch      loss  train_accuracy  epoch duration  run duration  \\\n",
       "0    1      1  1.448762         0.47418      460.524298    463.132570   \n",
       "1    1      2  0.863842         0.69638      461.061224    959.120229   \n",
       "2    1      3  0.625940         0.78278      462.776151   1457.050359   \n",
       "3    1      4  0.485208         0.83296      450.189462   1944.048155   \n",
       "4    1      5  0.382044         0.86954      451.990056   2434.763641   \n",
       "\n",
       "   test_accuracy  total parameters    lr  batch_size  momentum  weight_decay  \\\n",
       "0         0.6184          11181642  0.01          32       0.9         0.001   \n",
       "1         0.7357          11181642  0.01          32       0.9         0.001   \n",
       "2         0.7732          11181642  0.01          32       0.9         0.001   \n",
       "3         0.7775          11181642  0.01          32       0.9         0.001   \n",
       "4         0.7795          11181642  0.01          32       0.9         0.001   \n",
       "\n",
       "  pretrained  overfit%  \n",
       "0    [False]     0.000  \n",
       "1    [False]     0.000  \n",
       "2    [False]     0.958  \n",
       "3    [False]     5.546  \n",
       "4    [False]     9.004  "
      ]
     },
     "execution_count": 38,
     "metadata": {},
     "output_type": "execute_result"
    }
   ],
   "source": [
    "data['overfit%'] = 100*(data['train_accuracy'] - data['test_accuracy'])\n",
    "data['overfit%'] = data['overfit%'].apply(lambda x: max(x, 0))\n",
    "\n",
    "data.drop(['Unnamed: 0'], axis = 1, inplace = True)\n",
    "data.head(5)"
   ]
  },
  {
   "cell_type": "code",
   "execution_count": 39,
   "metadata": {},
   "outputs": [
    {
     "name": "stdout",
     "output_type": "stream",
     "text": [
      "Time taken for execution (mins): 176.9720973571142\n"
     ]
    }
   ],
   "source": [
    "print('Time taken for execution (mins):', data[data.epoch == max(data.epoch)]['run duration'].sum()/60)"
   ]
  },
  {
   "cell_type": "code",
   "execution_count": 33,
   "metadata": {},
   "outputs": [
    {
     "name": "stdout",
     "output_type": "stream",
     "text": [
      "Number of epochs: 20\n",
      "Learning rates tried: [0.01]\n",
      "Weight decays tried: [0.001]\n",
      "Batch size tried: [32]\n",
      "Pretrained weights settings tried: ['[False]']\n"
     ]
    }
   ],
   "source": [
    "print('Number of epochs:', len(data.epoch.unique()))\n",
    "print('Learning rates tried:', data.lr.unique())\n",
    "print('Weight decays tried:', data.weight_decay.unique())\n",
    "print('Batch size tried:', data.batch_size.unique())\n",
    "print('Pretrained weights settings tried:', data.pretrained.unique())"
   ]
  },
  {
   "cell_type": "markdown",
   "metadata": {},
   "source": [
    "### Best network configurations"
   ]
  },
  {
   "cell_type": "code",
   "execution_count": 34,
   "metadata": {},
   "outputs": [
    {
     "data": {
      "text/html": [
       "<div>\n",
       "<style scoped>\n",
       "    .dataframe tbody tr th:only-of-type {\n",
       "        vertical-align: middle;\n",
       "    }\n",
       "\n",
       "    .dataframe tbody tr th {\n",
       "        vertical-align: top;\n",
       "    }\n",
       "\n",
       "    .dataframe thead th {\n",
       "        text-align: right;\n",
       "    }\n",
       "</style>\n",
       "<table border=\"1\" class=\"dataframe\">\n",
       "  <thead>\n",
       "    <tr style=\"text-align: right;\">\n",
       "      <th></th>\n",
       "      <th>run</th>\n",
       "      <th>epoch</th>\n",
       "      <th>loss</th>\n",
       "      <th>train_accuracy</th>\n",
       "      <th>test_accuracy</th>\n",
       "      <th>lr</th>\n",
       "      <th>weight_decay</th>\n",
       "      <th>pretrained</th>\n",
       "      <th>overfit%</th>\n",
       "    </tr>\n",
       "  </thead>\n",
       "  <tbody>\n",
       "    <tr>\n",
       "      <th>17</th>\n",
       "      <td>1</td>\n",
       "      <td>18</td>\n",
       "      <td>0.131744</td>\n",
       "      <td>0.95706</td>\n",
       "      <td>0.8136</td>\n",
       "      <td>0.01</td>\n",
       "      <td>0.001</td>\n",
       "      <td>[False]</td>\n",
       "      <td>14.346</td>\n",
       "    </tr>\n",
       "  </tbody>\n",
       "</table>\n",
       "</div>"
      ],
      "text/plain": [
       "    run  epoch      loss  train_accuracy  test_accuracy    lr  weight_decay  \\\n",
       "17    1     18  0.131744         0.95706         0.8136  0.01         0.001   \n",
       "\n",
       "   pretrained  overfit%  \n",
       "17    [False]    14.346  "
      ]
     },
     "execution_count": 34,
     "metadata": {},
     "output_type": "execute_result"
    }
   ],
   "source": [
    "data.iloc[data[data.test_accuracy  == max(data.test_accuracy)].index, :][['run', 'epoch', 'loss', 'train_accuracy', 'test_accuracy', 'lr', 'weight_decay', 'pretrained', 'overfit%']]"
   ]
  },
  {
   "cell_type": "code",
   "execution_count": null,
   "metadata": {},
   "outputs": [],
   "source": [
    "best_run = data[data.test_accuracy == max(data.test_accuracy)].run.values[0]"
   ]
  },
  {
   "cell_type": "code",
   "execution_count": 36,
   "metadata": {},
   "outputs": [],
   "source": [
    "sns.set_style(\"ticks\")"
   ]
  },
  {
   "cell_type": "code",
   "execution_count": 27,
   "metadata": {},
   "outputs": [
    {
     "data": {
      "image/png": "[encoded data removed]",
      "text/plain": [
       "<Figure size 576x432 with 1 Axes>"
      ]
     },
     "metadata": {},
     "output_type": "display_data"
    }
   ],
   "source": [
    "fig = plt.figure(figsize = (8, 6))\n",
    "plt.plot(range(len(data.epoch.unique())), data[data.run == best_run]['train_accuracy'], label = 'Train', linestyle = '--')\n",
    "plt.plot(range(len(data.epoch.unique())), data[data.run == best_run]['test_accuracy'], label = 'Test')\n",
    "plt.title('Train v/s Test accuracy 224x224', fontsize = 16)\n",
    "# plt.title('Train v/s Test accuracy 32x32 ; With pretrained weights', fontsize = 16)\n",
    "plt.xlabel('Epochs', fontsize = 16)\n",
    "plt.ylabel('Accuracy', fontsize = 16)\n",
    "plt.legend(loc = 'lower right', fontsize = 15)\n",
    "plt.yticks(np.linspace(0.4, 1.0, 13))\n",
    "plt.show()\n",
    "fig.savefig('1.1 train_test_224.png', bbox_inches = 'tight')"
   ]
  },
  {
   "cell_type": "markdown",
   "metadata": {},
   "source": [
    "### Pick 1.2 csv results file for 32x32 or 224x224"
   ]
  },
  {
   "cell_type": "code",
   "execution_count": 4,
   "metadata": {},
   "outputs": [],
   "source": [
    "# data = pd.read_csv(\"1.2_pretrain_large_32.csv\")\n",
    "data = pd.read_csv(\"1.2_pretrain_large_224.csv\")"
   ]
  },
  {
   "cell_type": "code",
   "execution_count": 5,
   "metadata": {},
   "outputs": [
    {
     "data": {
      "text/html": [
       "<div>\n",
       "<style scoped>\n",
       "    .dataframe tbody tr th:only-of-type {\n",
       "        vertical-align: middle;\n",
       "    }\n",
       "\n",
       "    .dataframe tbody tr th {\n",
       "        vertical-align: top;\n",
       "    }\n",
       "\n",
       "    .dataframe thead th {\n",
       "        text-align: right;\n",
       "    }\n",
       "</style>\n",
       "<table border=\"1\" class=\"dataframe\">\n",
       "  <thead>\n",
       "    <tr style=\"text-align: right;\">\n",
       "      <th></th>\n",
       "      <th>run</th>\n",
       "      <th>epoch</th>\n",
       "      <th>loss</th>\n",
       "      <th>train_accuracy</th>\n",
       "      <th>epoch duration</th>\n",
       "      <th>run duration</th>\n",
       "      <th>test_accuracy</th>\n",
       "      <th>total parameters</th>\n",
       "      <th>lr</th>\n",
       "      <th>batch_size</th>\n",
       "      <th>momentum</th>\n",
       "      <th>weight_decay</th>\n",
       "      <th>pretrained</th>\n",
       "      <th>overfit%</th>\n",
       "    </tr>\n",
       "  </thead>\n",
       "  <tbody>\n",
       "    <tr>\n",
       "      <th>0</th>\n",
       "      <td>1</td>\n",
       "      <td>1</td>\n",
       "      <td>1.005740</td>\n",
       "      <td>0.70160</td>\n",
       "      <td>453.707815</td>\n",
       "      <td>457.369353</td>\n",
       "      <td>0.8538</td>\n",
       "      <td>11181642</td>\n",
       "      <td>0.0001</td>\n",
       "      <td>32</td>\n",
       "      <td>0.9</td>\n",
       "      <td>0.001</td>\n",
       "      <td>[True, 'all']</td>\n",
       "      <td>0.000</td>\n",
       "    </tr>\n",
       "    <tr>\n",
       "      <th>1</th>\n",
       "      <td>1</td>\n",
       "      <td>2</td>\n",
       "      <td>0.418908</td>\n",
       "      <td>0.87234</td>\n",
       "      <td>458.748741</td>\n",
       "      <td>950.821456</td>\n",
       "      <td>0.8985</td>\n",
       "      <td>11181642</td>\n",
       "      <td>0.0001</td>\n",
       "      <td>32</td>\n",
       "      <td>0.9</td>\n",
       "      <td>0.001</td>\n",
       "      <td>[True, 'all']</td>\n",
       "      <td>0.000</td>\n",
       "    </tr>\n",
       "    <tr>\n",
       "      <th>2</th>\n",
       "      <td>1</td>\n",
       "      <td>3</td>\n",
       "      <td>0.303009</td>\n",
       "      <td>0.90624</td>\n",
       "      <td>459.479337</td>\n",
       "      <td>1445.136689</td>\n",
       "      <td>0.9135</td>\n",
       "      <td>11181642</td>\n",
       "      <td>0.0001</td>\n",
       "      <td>32</td>\n",
       "      <td>0.9</td>\n",
       "      <td>0.001</td>\n",
       "      <td>[True, 'all']</td>\n",
       "      <td>0.000</td>\n",
       "    </tr>\n",
       "    <tr>\n",
       "      <th>3</th>\n",
       "      <td>1</td>\n",
       "      <td>4</td>\n",
       "      <td>0.244640</td>\n",
       "      <td>0.92450</td>\n",
       "      <td>464.050488</td>\n",
       "      <td>1943.959180</td>\n",
       "      <td>0.9198</td>\n",
       "      <td>11181642</td>\n",
       "      <td>0.0001</td>\n",
       "      <td>32</td>\n",
       "      <td>0.9</td>\n",
       "      <td>0.001</td>\n",
       "      <td>[True, 'all']</td>\n",
       "      <td>0.470</td>\n",
       "    </tr>\n",
       "    <tr>\n",
       "      <th>4</th>\n",
       "      <td>1</td>\n",
       "      <td>5</td>\n",
       "      <td>0.204599</td>\n",
       "      <td>0.93636</td>\n",
       "      <td>461.262030</td>\n",
       "      <td>2441.317239</td>\n",
       "      <td>0.9246</td>\n",
       "      <td>11181642</td>\n",
       "      <td>0.0001</td>\n",
       "      <td>32</td>\n",
       "      <td>0.9</td>\n",
       "      <td>0.001</td>\n",
       "      <td>[True, 'all']</td>\n",
       "      <td>1.176</td>\n",
       "    </tr>\n",
       "  </tbody>\n",
       "</table>\n",
       "</div>"
      ],
      "text/plain": [
       "   run  epoch      loss  train_accuracy  epoch duration  run duration  \\\n",
       "0    1      1  1.005740         0.70160      453.707815    457.369353   \n",
       "1    1      2  0.418908         0.87234      458.748741    950.821456   \n",
       "2    1      3  0.303009         0.90624      459.479337   1445.136689   \n",
       "3    1      4  0.244640         0.92450      464.050488   1943.959180   \n",
       "4    1      5  0.204599         0.93636      461.262030   2441.317239   \n",
       "\n",
       "   test_accuracy  total parameters      lr  batch_size  momentum  \\\n",
       "0         0.8538          11181642  0.0001          32       0.9   \n",
       "1         0.8985          11181642  0.0001          32       0.9   \n",
       "2         0.9135          11181642  0.0001          32       0.9   \n",
       "3         0.9198          11181642  0.0001          32       0.9   \n",
       "4         0.9246          11181642  0.0001          32       0.9   \n",
       "\n",
       "   weight_decay     pretrained  overfit%  \n",
       "0         0.001  [True, 'all']     0.000  \n",
       "1         0.001  [True, 'all']     0.000  \n",
       "2         0.001  [True, 'all']     0.000  \n",
       "3         0.001  [True, 'all']     0.470  \n",
       "4         0.001  [True, 'all']     1.176  "
      ]
     },
     "execution_count": 5,
     "metadata": {},
     "output_type": "execute_result"
    }
   ],
   "source": [
    "data['overfit%'] = 100*(data['train_accuracy'] - data['test_accuracy'])\n",
    "data['overfit%'] = data['overfit%'].apply(lambda x: max(x, 0))\n",
    "\n",
    "data.drop(['Unnamed: 0'], axis = 1, inplace = True)\n",
    "data.head(5)"
   ]
  },
  {
   "cell_type": "code",
   "execution_count": 6,
   "metadata": {},
   "outputs": [
    {
     "name": "stdout",
     "output_type": "stream",
     "text": [
      "Time taken for execution (mins): 251.4466058\n"
     ]
    }
   ],
   "source": [
    "print('Time taken for execution (mins):', data[data.epoch == max(data.epoch)]['run duration'].sum()/60)"
   ]
  },
  {
   "cell_type": "markdown",
   "metadata": {},
   "source": [
    "### Best configuration"
   ]
  },
  {
   "cell_type": "code",
   "execution_count": 7,
   "metadata": {},
   "outputs": [
    {
     "data": {
      "text/html": [
       "<div>\n",
       "<style scoped>\n",
       "    .dataframe tbody tr th:only-of-type {\n",
       "        vertical-align: middle;\n",
       "    }\n",
       "\n",
       "    .dataframe tbody tr th {\n",
       "        vertical-align: top;\n",
       "    }\n",
       "\n",
       "    .dataframe thead th {\n",
       "        text-align: right;\n",
       "    }\n",
       "</style>\n",
       "<table border=\"1\" class=\"dataframe\">\n",
       "  <thead>\n",
       "    <tr style=\"text-align: right;\">\n",
       "      <th></th>\n",
       "      <th>run</th>\n",
       "      <th>epoch</th>\n",
       "      <th>loss</th>\n",
       "      <th>train_accuracy</th>\n",
       "      <th>test_accuracy</th>\n",
       "      <th>lr</th>\n",
       "      <th>weight_decay</th>\n",
       "      <th>pretrained</th>\n",
       "      <th>overfit%</th>\n",
       "    </tr>\n",
       "  </thead>\n",
       "  <tbody>\n",
       "    <tr>\n",
       "      <th>23</th>\n",
       "      <td>2</td>\n",
       "      <td>9</td>\n",
       "      <td>0.002082</td>\n",
       "      <td>1.0</td>\n",
       "      <td>0.9503</td>\n",
       "      <td>0.001</td>\n",
       "      <td>0.001</td>\n",
       "      <td>[True, 'all']</td>\n",
       "      <td>4.97</td>\n",
       "    </tr>\n",
       "  </tbody>\n",
       "</table>\n",
       "</div>"
      ],
      "text/plain": [
       "    run  epoch      loss  train_accuracy  test_accuracy     lr  weight_decay  \\\n",
       "23    2      9  0.002082             1.0         0.9503  0.001         0.001   \n",
       "\n",
       "       pretrained  overfit%  \n",
       "23  [True, 'all']      4.97  "
      ]
     },
     "execution_count": 7,
     "metadata": {},
     "output_type": "execute_result"
    }
   ],
   "source": [
    "data.iloc[data[data.test_accuracy  == max(data.test_accuracy)].index, :][['run', 'epoch', 'loss', 'train_accuracy', 'test_accuracy', 'lr', 'weight_decay', 'pretrained', 'overfit%']]"
   ]
  },
  {
   "cell_type": "code",
   "execution_count": 8,
   "metadata": {},
   "outputs": [],
   "source": [
    "best_run = data[data.test_accuracy == max(data.test_accuracy)].run.values[0]"
   ]
  },
  {
   "cell_type": "code",
   "execution_count": 9,
   "metadata": {},
   "outputs": [
    {
     "data": {
      "image/png": "[encoded data removed]",
      "text/plain": [
       "<Figure size 576x432 with 1 Axes>"
      ]
     },
     "metadata": {
      "needs_background": "light"
     },
     "output_type": "display_data"
    }
   ],
   "source": [
    "fig = plt.figure(figsize = (8, 6))\n",
    "plt.plot(range(len(data.epoch.unique())), data[data.run == best_run]['train_accuracy'], label = 'Train', linestyle = '--')\n",
    "plt.plot(range(len(data.epoch.unique())), data[data.run == best_run]['test_accuracy'], label = 'Test')\n",
    "plt.title('Train v/s Test accuracy 32x32', fontsize = 16)\n",
    "# plt.title('Train v/s Test accuracy 224x224', fontsize = 16)\n",
    "\n",
    "plt.xlabel('Epochs', fontsize = 16)\n",
    "plt.ylabel('Accuracy', fontsize = 16)\n",
    "plt.legend(loc = 'lower right', fontsize = 15)\n",
    "# plt.yticks(np.linspace(0.4, 1.0, 13))\n",
    "plt.show()\n",
    "# fig.savefig('1.2 train_test_224.png', bbox_inches = 'tight')\n",
    "# fig.savefig('1.2 train_test_32.png', bbox_inches = 'tight')"
   ]
  },
  {
   "cell_type": "code",
   "execution_count": 90,
   "metadata": {},
   "outputs": [
    {
     "name": "stdout",
     "output_type": "stream",
     "text": [
      "Number of epochs: 15\n",
      "Learning rates tried: [0.0001 0.001 ]\n",
      "Weight decays tried: [0.001]\n",
      "Batch size tried: [32]\n",
      "Pretrained weights settings tried: [\"[True, 'all']\"]\n"
     ]
    }
   ],
   "source": [
    "print('Number of epochs:', len(data.epoch.unique()))\n",
    "print('Learning rates tried:', data.lr.unique())\n",
    "print('Weight decays tried:', data.weight_decay.unique())\n",
    "print('Batch size tried:', data.batch_size.unique())\n",
    "print('Pretrained weights settings tried:', data.pretrained.unique())"
   ]
  },
  {
   "cell_type": "markdown",
   "metadata": {},
   "source": [
    "### Effect of pretrained weights"
   ]
  },
  {
   "cell_type": "code",
   "execution_count": 91,
   "metadata": {},
   "outputs": [
    {
     "data": {
      "text/html": [
       "<style  type=\"text/css\" >\n",
       "    #T_c9185808_e6a6_11e9_91e0_887873317f76row0_col2 {\n",
       "            background-color:  #f7fbff;\n",
       "            color:  #000000;\n",
       "        }</style><table id=\"T_c9185808_e6a6_11e9_91e0_887873317f76\" ><thead>    <tr>        <th class=\"blank level0\" ></th>        <th class=\"col_heading level0 col0\" >loss</th>        <th class=\"col_heading level0 col1\" >train_accuracy</th>        <th class=\"col_heading level0 col2\" >test_accuracy</th>        <th class=\"col_heading level0 col3\" >overfit%</th>    </tr>    <tr>        <th class=\"index_name level0\" >pretrained</th>        <th class=\"blank\" ></th>        <th class=\"blank\" ></th>        <th class=\"blank\" ></th>        <th class=\"blank\" ></th>    </tr></thead><tbody>\n",
       "                <tr>\n",
       "                        <th id=\"T_c9185808_e6a6_11e9_91e0_887873317f76level0_row0\" class=\"row_heading level0 row0\" >[True, 'all']</th>\n",
       "                        <td id=\"T_c9185808_e6a6_11e9_91e0_887873317f76row0_col0\" class=\"data row0 col0\" >0.124117</td>\n",
       "                        <td id=\"T_c9185808_e6a6_11e9_91e0_887873317f76row0_col1\" class=\"data row0 col1\" >0.964587</td>\n",
       "                        <td id=\"T_c9185808_e6a6_11e9_91e0_887873317f76row0_col2\" class=\"data row0 col2\" >0.935457</td>\n",
       "                        <td id=\"T_c9185808_e6a6_11e9_91e0_887873317f76row0_col3\" class=\"data row0 col3\" >3.75227</td>\n",
       "            </tr>\n",
       "    </tbody></table>"
      ],
      "text/plain": [
       "<pandas.io.formats.style.Styler at 0x17f6c9b11d0>"
      ]
     },
     "execution_count": 91,
     "metadata": {},
     "output_type": "execute_result"
    }
   ],
   "source": [
    "wd_data = data.groupby(['pretrained'])['loss', 'train_accuracy', 'test_accuracy', 'overfit%'].mean()\n",
    "\n",
    "try: wd_data = wd_data.iloc[[0, 3, 2, 1], :]\n",
    "except: pass\n",
    "\n",
    "(wd_data.style.\n",
    "# background_gradient(subset='overfit%', cmap='Blues').\n",
    "background_gradient(subset='test_accuracy', cmap='Blues'))"
   ]
  },
  {
   "cell_type": "markdown",
   "metadata": {},
   "source": [
    "### Effect of weight decay"
   ]
  },
  {
   "cell_type": "code",
   "execution_count": 92,
   "metadata": {},
   "outputs": [
    {
     "data": {
      "text/html": [
       "<style  type=\"text/css\" >\n",
       "    #T_ccdcc218_e6a6_11e9_8fa1_887873317f76row0_col3 {\n",
       "            background-color:  #f7fbff;\n",
       "            color:  #000000;\n",
       "        }</style><table id=\"T_ccdcc218_e6a6_11e9_8fa1_887873317f76\" ><thead>    <tr>        <th class=\"blank level0\" ></th>        <th class=\"col_heading level0 col0\" >loss</th>        <th class=\"col_heading level0 col1\" >train_accuracy</th>        <th class=\"col_heading level0 col2\" >test_accuracy</th>        <th class=\"col_heading level0 col3\" >overfit%</th>    </tr>    <tr>        <th class=\"index_name level0\" >weight_decay</th>        <th class=\"blank\" ></th>        <th class=\"blank\" ></th>        <th class=\"blank\" ></th>        <th class=\"blank\" ></th>    </tr></thead><tbody>\n",
       "                <tr>\n",
       "                        <th id=\"T_ccdcc218_e6a6_11e9_8fa1_887873317f76level0_row0\" class=\"row_heading level0 row0\" >0.001</th>\n",
       "                        <td id=\"T_ccdcc218_e6a6_11e9_8fa1_887873317f76row0_col0\" class=\"data row0 col0\" >0.124117</td>\n",
       "                        <td id=\"T_ccdcc218_e6a6_11e9_8fa1_887873317f76row0_col1\" class=\"data row0 col1\" >0.964587</td>\n",
       "                        <td id=\"T_ccdcc218_e6a6_11e9_8fa1_887873317f76row0_col2\" class=\"data row0 col2\" >0.935457</td>\n",
       "                        <td id=\"T_ccdcc218_e6a6_11e9_8fa1_887873317f76row0_col3\" class=\"data row0 col3\" >3.75227</td>\n",
       "            </tr>\n",
       "    </tbody></table>"
      ],
      "text/plain": [
       "<pandas.io.formats.style.Styler at 0x17f6cf56a90>"
      ]
     },
     "execution_count": 92,
     "metadata": {},
     "output_type": "execute_result"
    }
   ],
   "source": [
    "wd_data = data.groupby(['weight_decay'])['loss', 'train_accuracy', 'test_accuracy', 'overfit%'].mean()\n",
    "\n",
    "(wd_data.style.\n",
    "background_gradient(subset='overfit%', cmap='Blues'))"
   ]
  },
  {
   "cell_type": "markdown",
   "metadata": {},
   "source": [
    "### Effect of lr on fine-tuning"
   ]
  },
  {
   "cell_type": "code",
   "execution_count": 93,
   "metadata": {},
   "outputs": [
    {
     "data": {
      "text/html": [
       "<style  type=\"text/css\" >\n",
       "    #T_cfaa5476_e6a6_11e9_9b84_887873317f76row0_col2 {\n",
       "            background-color:  #f7fbff;\n",
       "            color:  #000000;\n",
       "        }    #T_cfaa5476_e6a6_11e9_9b84_887873317f76row1_col2 {\n",
       "            background-color:  #08306b;\n",
       "            color:  #f1f1f1;\n",
       "        }</style><table id=\"T_cfaa5476_e6a6_11e9_9b84_887873317f76\" ><thead>    <tr>        <th class=\"blank level0\" ></th>        <th class=\"col_heading level0 col0\" >loss</th>        <th class=\"col_heading level0 col1\" >train_accuracy</th>        <th class=\"col_heading level0 col2\" >test_accuracy</th>        <th class=\"col_heading level0 col3\" >overfit%</th>    </tr>    <tr>        <th class=\"index_name level0\" >lr</th>        <th class=\"blank\" ></th>        <th class=\"blank\" ></th>        <th class=\"blank\" ></th>        <th class=\"blank\" ></th>    </tr></thead><tbody>\n",
       "                <tr>\n",
       "                        <th id=\"T_cfaa5476_e6a6_11e9_9b84_887873317f76level0_row0\" class=\"row_heading level0 row0\" >0.0001</th>\n",
       "                        <td id=\"T_cfaa5476_e6a6_11e9_9b84_887873317f76row0_col0\" class=\"data row0 col0\" >0.207009</td>\n",
       "                        <td id=\"T_cfaa5476_e6a6_11e9_9b84_887873317f76row0_col1\" class=\"data row0 col1\" >0.941321</td>\n",
       "                        <td id=\"T_cfaa5476_e6a6_11e9_9b84_887873317f76row0_col2\" class=\"data row0 col2\" >0.92334</td>\n",
       "                        <td id=\"T_cfaa5476_e6a6_11e9_9b84_887873317f76row0_col3\" class=\"data row0 col3\" >3.0356</td>\n",
       "            </tr>\n",
       "            <tr>\n",
       "                        <th id=\"T_cfaa5476_e6a6_11e9_9b84_887873317f76level0_row1\" class=\"row_heading level0 row1\" >0.001</th>\n",
       "                        <td id=\"T_cfaa5476_e6a6_11e9_9b84_887873317f76row1_col0\" class=\"data row1 col0\" >0.0412242</td>\n",
       "                        <td id=\"T_cfaa5476_e6a6_11e9_9b84_887873317f76row1_col1\" class=\"data row1 col1\" >0.987853</td>\n",
       "                        <td id=\"T_cfaa5476_e6a6_11e9_9b84_887873317f76row1_col2\" class=\"data row1 col2\" >0.947573</td>\n",
       "                        <td id=\"T_cfaa5476_e6a6_11e9_9b84_887873317f76row1_col3\" class=\"data row1 col3\" >4.46893</td>\n",
       "            </tr>\n",
       "    </tbody></table>"
      ],
      "text/plain": [
       "<pandas.io.formats.style.Styler at 0x17f6d02c898>"
      ]
     },
     "execution_count": 93,
     "metadata": {},
     "output_type": "execute_result"
    }
   ],
   "source": [
    "lr_data = data.groupby(['lr'])['loss', 'train_accuracy', 'test_accuracy', 'overfit%'].mean()\n",
    "\n",
    "(lr_data.style.\n",
    "background_gradient(subset='test_accuracy', cmap='Blues'))"
   ]
  },
  {
   "cell_type": "markdown",
   "metadata": {},
   "source": [
    "### Effect of weight decay and learning rate"
   ]
  },
  {
   "cell_type": "code",
   "execution_count": 95,
   "metadata": {},
   "outputs": [
    {
     "data": {
      "text/html": [
       "<style  type=\"text/css\" >\n",
       "    #T_e27c7bfe_e6a6_11e9_9e19_887873317f76row0_col2 {\n",
       "            background-color:  #f7fbff;\n",
       "            color:  #000000;\n",
       "        }    #T_e27c7bfe_e6a6_11e9_9e19_887873317f76row1_col2 {\n",
       "            background-color:  #08306b;\n",
       "            color:  #f1f1f1;\n",
       "        }</style><table id=\"T_e27c7bfe_e6a6_11e9_9e19_887873317f76\" ><thead>    <tr>        <th class=\"blank\" ></th>        <th class=\"blank level0\" ></th>        <th class=\"col_heading level0 col0\" >loss</th>        <th class=\"col_heading level0 col1\" >train_accuracy</th>        <th class=\"col_heading level0 col2\" >test_accuracy</th>        <th class=\"col_heading level0 col3\" >overfit%</th>    </tr>    <tr>        <th class=\"index_name level0\" >lr</th>        <th class=\"index_name level1\" >weight_decay</th>        <th class=\"blank\" ></th>        <th class=\"blank\" ></th>        <th class=\"blank\" ></th>        <th class=\"blank\" ></th>    </tr></thead><tbody>\n",
       "                <tr>\n",
       "                        <th id=\"T_e27c7bfe_e6a6_11e9_9e19_887873317f76level0_row0\" class=\"row_heading level0 row0\" >0.0001</th>\n",
       "                        <th id=\"T_e27c7bfe_e6a6_11e9_9e19_887873317f76level1_row0\" class=\"row_heading level1 row0\" >0.001</th>\n",
       "                        <td id=\"T_e27c7bfe_e6a6_11e9_9e19_887873317f76row0_col0\" class=\"data row0 col0\" >0.207009</td>\n",
       "                        <td id=\"T_e27c7bfe_e6a6_11e9_9e19_887873317f76row0_col1\" class=\"data row0 col1\" >0.941321</td>\n",
       "                        <td id=\"T_e27c7bfe_e6a6_11e9_9e19_887873317f76row0_col2\" class=\"data row0 col2\" >0.92334</td>\n",
       "                        <td id=\"T_e27c7bfe_e6a6_11e9_9e19_887873317f76row0_col3\" class=\"data row0 col3\" >3.0356</td>\n",
       "            </tr>\n",
       "            <tr>\n",
       "                        <th id=\"T_e27c7bfe_e6a6_11e9_9e19_887873317f76level0_row1\" class=\"row_heading level0 row1\" >0.001</th>\n",
       "                        <th id=\"T_e27c7bfe_e6a6_11e9_9e19_887873317f76level1_row1\" class=\"row_heading level1 row1\" >0.001</th>\n",
       "                        <td id=\"T_e27c7bfe_e6a6_11e9_9e19_887873317f76row1_col0\" class=\"data row1 col0\" >0.0412242</td>\n",
       "                        <td id=\"T_e27c7bfe_e6a6_11e9_9e19_887873317f76row1_col1\" class=\"data row1 col1\" >0.987853</td>\n",
       "                        <td id=\"T_e27c7bfe_e6a6_11e9_9e19_887873317f76row1_col2\" class=\"data row1 col2\" >0.947573</td>\n",
       "                        <td id=\"T_e27c7bfe_e6a6_11e9_9e19_887873317f76row1_col3\" class=\"data row1 col3\" >4.46893</td>\n",
       "            </tr>\n",
       "    </tbody></table>"
      ],
      "text/plain": [
       "<pandas.io.formats.style.Styler at 0x17f6e5c89b0>"
      ]
     },
     "execution_count": 95,
     "metadata": {},
     "output_type": "execute_result"
    }
   ],
   "source": [
    "wd_lr_data = data.groupby(['lr', 'weight_decay'])['loss', 'train_accuracy', 'test_accuracy', 'overfit%'].mean()\n",
    "(wd_lr_data.style.\n",
    "background_gradient(subset='test_accuracy', cmap='Blues'))\n",
    "# background_gradient(subset='loss', cmap='YlGn'))"
   ]
  },
  {
   "cell_type": "code",
   "execution_count": 96,
   "metadata": {},
   "outputs": [
    {
     "data": {
      "text/html": [
       "<style  type=\"text/css\" >\n",
       "    #T_e2c303b4_e6a6_11e9_94d5_887873317f76row0_col0 {\n",
       "            background-color:  #004529;\n",
       "            color:  #f1f1f1;\n",
       "        }    #T_e2c303b4_e6a6_11e9_94d5_887873317f76row0_col2 {\n",
       "            background-color:  #f7fbff;\n",
       "            color:  #000000;\n",
       "        }    #T_e2c303b4_e6a6_11e9_94d5_887873317f76row1_col0 {\n",
       "            background-color:  #ffffe5;\n",
       "            color:  #000000;\n",
       "        }    #T_e2c303b4_e6a6_11e9_94d5_887873317f76row1_col2 {\n",
       "            background-color:  #08306b;\n",
       "            color:  #f1f1f1;\n",
       "        }</style><table id=\"T_e2c303b4_e6a6_11e9_94d5_887873317f76\" ><thead>    <tr>        <th class=\"blank\" ></th>        <th class=\"blank level0\" ></th>        <th class=\"col_heading level0 col0\" >loss</th>        <th class=\"col_heading level0 col1\" >train_accuracy</th>        <th class=\"col_heading level0 col2\" >test_accuracy</th>        <th class=\"col_heading level0 col3\" >overfit%</th>    </tr>    <tr>        <th class=\"index_name level0\" >weight_decay</th>        <th class=\"index_name level1\" >lr</th>        <th class=\"blank\" ></th>        <th class=\"blank\" ></th>        <th class=\"blank\" ></th>        <th class=\"blank\" ></th>    </tr></thead><tbody>\n",
       "                <tr>\n",
       "                        <th id=\"T_e2c303b4_e6a6_11e9_94d5_887873317f76level0_row0\" class=\"row_heading level0 row0\" rowspan=2>0.001</th>\n",
       "                        <th id=\"T_e2c303b4_e6a6_11e9_94d5_887873317f76level1_row0\" class=\"row_heading level1 row0\" >0.0001</th>\n",
       "                        <td id=\"T_e2c303b4_e6a6_11e9_94d5_887873317f76row0_col0\" class=\"data row0 col0\" >0.207009</td>\n",
       "                        <td id=\"T_e2c303b4_e6a6_11e9_94d5_887873317f76row0_col1\" class=\"data row0 col1\" >0.941321</td>\n",
       "                        <td id=\"T_e2c303b4_e6a6_11e9_94d5_887873317f76row0_col2\" class=\"data row0 col2\" >0.92334</td>\n",
       "                        <td id=\"T_e2c303b4_e6a6_11e9_94d5_887873317f76row0_col3\" class=\"data row0 col3\" >3.0356</td>\n",
       "            </tr>\n",
       "            <tr>\n",
       "                                <th id=\"T_e2c303b4_e6a6_11e9_94d5_887873317f76level1_row1\" class=\"row_heading level1 row1\" >0.001</th>\n",
       "                        <td id=\"T_e2c303b4_e6a6_11e9_94d5_887873317f76row1_col0\" class=\"data row1 col0\" >0.0412242</td>\n",
       "                        <td id=\"T_e2c303b4_e6a6_11e9_94d5_887873317f76row1_col1\" class=\"data row1 col1\" >0.987853</td>\n",
       "                        <td id=\"T_e2c303b4_e6a6_11e9_94d5_887873317f76row1_col2\" class=\"data row1 col2\" >0.947573</td>\n",
       "                        <td id=\"T_e2c303b4_e6a6_11e9_94d5_887873317f76row1_col3\" class=\"data row1 col3\" >4.46893</td>\n",
       "            </tr>\n",
       "    </tbody></table>"
      ],
      "text/plain": [
       "<pandas.io.formats.style.Styler at 0x17f6ce161d0>"
      ]
     },
     "execution_count": 96,
     "metadata": {},
     "output_type": "execute_result"
    }
   ],
   "source": [
    "wd_lr_data = data.groupby(['weight_decay', 'lr'])['loss', 'train_accuracy', 'test_accuracy', 'overfit%'].mean()\n",
    "\n",
    "\n",
    "(wd_lr_data.style.\n",
    "background_gradient(subset='test_accuracy', cmap='Blues').\n",
    "background_gradient(subset='loss', cmap='YlGn'))"
   ]
  },
  {
   "cell_type": "markdown",
   "metadata": {},
   "source": [
    "### Effect of pretrained weights and learning rate"
   ]
  },
  {
   "cell_type": "code",
   "execution_count": 97,
   "metadata": {},
   "outputs": [
    {
     "data": {
      "text/html": [
       "<style  type=\"text/css\" >\n",
       "    #T_e6e52d9c_e6a6_11e9_aaa8_887873317f76row0_col2 {\n",
       "            background-color:  #f7fbff;\n",
       "            color:  #000000;\n",
       "        }    #T_e6e52d9c_e6a6_11e9_aaa8_887873317f76row1_col2 {\n",
       "            background-color:  #08306b;\n",
       "            color:  #f1f1f1;\n",
       "        }</style><table id=\"T_e6e52d9c_e6a6_11e9_aaa8_887873317f76\" ><thead>    <tr>        <th class=\"blank\" ></th>        <th class=\"blank level0\" ></th>        <th class=\"col_heading level0 col0\" >loss</th>        <th class=\"col_heading level0 col1\" >train_accuracy</th>        <th class=\"col_heading level0 col2\" >test_accuracy</th>        <th class=\"col_heading level0 col3\" >overfit%</th>    </tr>    <tr>        <th class=\"index_name level0\" >pretrained</th>        <th class=\"index_name level1\" >lr</th>        <th class=\"blank\" ></th>        <th class=\"blank\" ></th>        <th class=\"blank\" ></th>        <th class=\"blank\" ></th>    </tr></thead><tbody>\n",
       "                <tr>\n",
       "                        <th id=\"T_e6e52d9c_e6a6_11e9_aaa8_887873317f76level0_row0\" class=\"row_heading level0 row0\" rowspan=2>[True, 'all']</th>\n",
       "                        <th id=\"T_e6e52d9c_e6a6_11e9_aaa8_887873317f76level1_row0\" class=\"row_heading level1 row0\" >0.0001</th>\n",
       "                        <td id=\"T_e6e52d9c_e6a6_11e9_aaa8_887873317f76row0_col0\" class=\"data row0 col0\" >0.207009</td>\n",
       "                        <td id=\"T_e6e52d9c_e6a6_11e9_aaa8_887873317f76row0_col1\" class=\"data row0 col1\" >0.941321</td>\n",
       "                        <td id=\"T_e6e52d9c_e6a6_11e9_aaa8_887873317f76row0_col2\" class=\"data row0 col2\" >0.92334</td>\n",
       "                        <td id=\"T_e6e52d9c_e6a6_11e9_aaa8_887873317f76row0_col3\" class=\"data row0 col3\" >3.0356</td>\n",
       "            </tr>\n",
       "            <tr>\n",
       "                                <th id=\"T_e6e52d9c_e6a6_11e9_aaa8_887873317f76level1_row1\" class=\"row_heading level1 row1\" >0.001</th>\n",
       "                        <td id=\"T_e6e52d9c_e6a6_11e9_aaa8_887873317f76row1_col0\" class=\"data row1 col0\" >0.0412242</td>\n",
       "                        <td id=\"T_e6e52d9c_e6a6_11e9_aaa8_887873317f76row1_col1\" class=\"data row1 col1\" >0.987853</td>\n",
       "                        <td id=\"T_e6e52d9c_e6a6_11e9_aaa8_887873317f76row1_col2\" class=\"data row1 col2\" >0.947573</td>\n",
       "                        <td id=\"T_e6e52d9c_e6a6_11e9_aaa8_887873317f76row1_col3\" class=\"data row1 col3\" >4.46893</td>\n",
       "            </tr>\n",
       "    </tbody></table>"
      ],
      "text/plain": [
       "<pandas.io.formats.style.Styler at 0x17f6cf53908>"
      ]
     },
     "execution_count": 97,
     "metadata": {},
     "output_type": "execute_result"
    }
   ],
   "source": [
    "wd_lr_data = data.groupby(['pretrained', 'lr'])['loss', 'train_accuracy', 'test_accuracy', 'overfit%'].mean()\n",
    "\n",
    "(wd_lr_data.style.\n",
    "background_gradient(subset='test_accuracy', cmap='Blues'))\n",
    "# background_gradient(subset='loss', cmap='YlGn'))"
   ]
  },
  {
   "cell_type": "markdown",
   "metadata": {},
   "source": [
    "### Pick 2.1 csv results file for 32x32 (3 types of augmentations)"
   ]
  },
  {
   "cell_type": "code",
   "execution_count": 17,
   "metadata": {},
   "outputs": [],
   "source": [
    "aug1 = pd.read_csv('2.1_No_pretrain_32_tiny_aug_1.csv')\n",
    "aug2 = pd.read_csv('2.1_No_pretrain_32_tiny_aug_2.csv')\n",
    "aug3 = pd.read_csv('2.1_No_pretrain_32_tiny_aug_3.csv')\n",
    "aug1.drop(['Unnamed: 0'], axis = 1, inplace = True)\n",
    "aug2.drop(['Unnamed: 0'], axis = 1, inplace = True)\n",
    "aug3.drop(['Unnamed: 0'], axis = 1, inplace = True)"
   ]
  },
  {
   "cell_type": "code",
   "execution_count": 18,
   "metadata": {},
   "outputs": [],
   "source": [
    "aug1['Type'] = 'aug1'\n",
    "aug2['Type'] = 'aug2'\n",
    "aug3['Type'] = 'aug3'"
   ]
  },
  {
   "cell_type": "code",
   "execution_count": 19,
   "metadata": {},
   "outputs": [],
   "source": [
    "all_aug = pd.concat([aug1, aug2, aug3])"
   ]
  },
  {
   "cell_type": "code",
   "execution_count": 20,
   "metadata": {},
   "outputs": [
    {
     "data": {
      "text/plain": [
       "mean    0.485316\n",
       "max     0.556100\n",
       "Name: test_accuracy, dtype: float64"
      ]
     },
     "execution_count": 20,
     "metadata": {},
     "output_type": "execute_result"
    }
   ],
   "source": [
    "aug1['test_accuracy'].agg(['mean', 'max'])"
   ]
  },
  {
   "cell_type": "code",
   "execution_count": 21,
   "metadata": {},
   "outputs": [
    {
     "data": {
      "text/plain": [
       "mean    0.392362\n",
       "max     0.437400\n",
       "Name: test_accuracy, dtype: float64"
      ]
     },
     "execution_count": 21,
     "metadata": {},
     "output_type": "execute_result"
    }
   ],
   "source": [
    "aug2['test_accuracy'].agg(['mean', 'max'])"
   ]
  },
  {
   "cell_type": "code",
   "execution_count": 22,
   "metadata": {},
   "outputs": [
    {
     "data": {
      "text/plain": [
       "mean    0.37953\n",
       "max     0.43300\n",
       "Name: test_accuracy, dtype: float64"
      ]
     },
     "execution_count": 22,
     "metadata": {},
     "output_type": "execute_result"
    }
   ],
   "source": [
    "aug3['test_accuracy'].agg(['mean', 'max'])"
   ]
  },
  {
   "cell_type": "code",
   "execution_count": 16,
   "metadata": {},
   "outputs": [
    {
     "data": {
      "text/html": [
       "<div>\n",
       "<style scoped>\n",
       "    .dataframe tbody tr th:only-of-type {\n",
       "        vertical-align: middle;\n",
       "    }\n",
       "\n",
       "    .dataframe tbody tr th {\n",
       "        vertical-align: top;\n",
       "    }\n",
       "\n",
       "    .dataframe thead th {\n",
       "        text-align: right;\n",
       "    }\n",
       "</style>\n",
       "<table border=\"1\" class=\"dataframe\">\n",
       "  <thead>\n",
       "    <tr style=\"text-align: right;\">\n",
       "      <th></th>\n",
       "      <th>Unnamed: 0</th>\n",
       "      <th>run</th>\n",
       "      <th>epoch</th>\n",
       "      <th>loss</th>\n",
       "      <th>train_accuracy</th>\n",
       "      <th>epoch duration</th>\n",
       "      <th>run duration</th>\n",
       "      <th>test_accuracy</th>\n",
       "      <th>total parameters</th>\n",
       "      <th>lr</th>\n",
       "      <th>batch_size</th>\n",
       "      <th>momentum</th>\n",
       "      <th>weight_decay</th>\n",
       "      <th>pretrained</th>\n",
       "      <th>Type</th>\n",
       "    </tr>\n",
       "  </thead>\n",
       "  <tbody>\n",
       "    <tr>\n",
       "      <th>79</th>\n",
       "      <td>79</td>\n",
       "      <td>1</td>\n",
       "      <td>80</td>\n",
       "      <td>0.044862</td>\n",
       "      <td>0.9986</td>\n",
       "      <td>10.418137</td>\n",
       "      <td>1062.634899</td>\n",
       "      <td>0.5561</td>\n",
       "      <td>11181642</td>\n",
       "      <td>0.01</td>\n",
       "      <td>32</td>\n",
       "      <td>0.9</td>\n",
       "      <td>0.01</td>\n",
       "      <td>[False]</td>\n",
       "      <td>aug1</td>\n",
       "    </tr>\n",
       "  </tbody>\n",
       "</table>\n",
       "</div>"
      ],
      "text/plain": [
       "    Unnamed: 0  run  epoch      loss  train_accuracy  epoch duration  \\\n",
       "79          79    1     80  0.044862          0.9986       10.418137   \n",
       "\n",
       "    run duration  test_accuracy  total parameters    lr  batch_size  momentum  \\\n",
       "79   1062.634899         0.5561          11181642  0.01          32       0.9   \n",
       "\n",
       "    weight_decay pretrained  Type  \n",
       "79          0.01    [False]  aug1  "
      ]
     },
     "execution_count": 16,
     "metadata": {},
     "output_type": "execute_result"
    }
   ],
   "source": [
    "best_run = all_aug[all_aug.test_accuracy == max(all_aug.test_accuracy)].run.values[0]\n",
    "all_aug[all_aug.test_accuracy == max(all_aug.test_accuracy)]"
   ]
  },
  {
   "cell_type": "code",
   "execution_count": 23,
   "metadata": {},
   "outputs": [
    {
     "data": {
      "text/plain": [
       "80"
      ]
     },
     "execution_count": 23,
     "metadata": {},
     "output_type": "execute_result"
    }
   ],
   "source": [
    "len(aug1.epoch.unique())"
   ]
  },
  {
   "cell_type": "code",
   "execution_count": 24,
   "metadata": {},
   "outputs": [
    {
     "data": {
      "image/png": "[encoded data removed]",
      "text/plain": [
       "<Figure size 576x432 with 1 Axes>"
      ]
     },
     "metadata": {
      "needs_background": "light"
     },
     "output_type": "display_data"
    }
   ],
   "source": [
    "fig = plt.figure(figsize = (8, 6))\n",
    "plt.plot(range(len(aug1.epoch.unique())), aug1[aug1.run == best_run]['train_accuracy'], label = 'Train', linestyle = '--')\n",
    "plt.plot(range(len(aug1.epoch.unique())), aug1[aug1.run == best_run]['test_accuracy'], label = 'Test')\n",
    "plt.title('Train v/s Test accuracy 32x32 - Tiny CIFAR; Pretrained = False', fontsize = 16)\n",
    "\n",
    "plt.xlabel('Epochs', fontsize = 16)\n",
    "plt.ylabel('Accuracy', fontsize = 16)\n",
    "plt.legend(loc = 'lower right', fontsize = 15)\n",
    "# plt.yticks(np.linspace(0.4, 1.0, 13))\n",
    "plt.show()\n",
    "# fig.savefig('1.2 train_test_224.png', bbox_inches = 'tight')\n",
    "fig.savefig('2.1 train_test_32.png', bbox_inches = 'tight')"
   ]
  },
  {
   "cell_type": "code",
   "execution_count": 27,
   "metadata": {},
   "outputs": [
    {
     "data": {
      "text/html": [
       "<style  type=\"text/css\" >\n",
       "    #T_c59c6d66_e85e_11e9_b77a_887873317f76row0_col2 {\n",
       "            background-color:  #08306b;\n",
       "            color:  #f1f1f1;\n",
       "        }    #T_c59c6d66_e85e_11e9_b77a_887873317f76row0_col3 {\n",
       "            background-color:  #08306b;\n",
       "            color:  #f1f1f1;\n",
       "        }    #T_c59c6d66_e85e_11e9_b77a_887873317f76row1_col2 {\n",
       "            background-color:  #dfebf7;\n",
       "            color:  #000000;\n",
       "        }    #T_c59c6d66_e85e_11e9_b77a_887873317f76row1_col3 {\n",
       "            background-color:  #f0f6fd;\n",
       "            color:  #000000;\n",
       "        }    #T_c59c6d66_e85e_11e9_b77a_887873317f76row2_col2 {\n",
       "            background-color:  #f7fbff;\n",
       "            color:  #000000;\n",
       "        }    #T_c59c6d66_e85e_11e9_b77a_887873317f76row2_col3 {\n",
       "            background-color:  #f7fbff;\n",
       "            color:  #000000;\n",
       "        }</style><table id=\"T_c59c6d66_e85e_11e9_b77a_887873317f76\" ><thead>    <tr>        <th class=\"blank level0\" ></th>        <th class=\"col_heading level0 col0\" colspan=2>train_accuracy</th>        <th class=\"col_heading level0 col2\" colspan=2>test_accuracy</th>    </tr>    <tr>        <th class=\"blank level1\" ></th>        <th class=\"col_heading level1 col0\" >mean</th>        <th class=\"col_heading level1 col1\" >max</th>        <th class=\"col_heading level1 col2\" >mean</th>        <th class=\"col_heading level1 col3\" >max</th>    </tr>    <tr>        <th class=\"index_name level0\" >Type</th>        <th class=\"blank\" ></th>        <th class=\"blank\" ></th>        <th class=\"blank\" ></th>        <th class=\"blank\" ></th>    </tr></thead><tbody>\n",
       "                <tr>\n",
       "                        <th id=\"T_c59c6d66_e85e_11e9_b77a_887873317f76level0_row0\" class=\"row_heading level0 row0\" >aug1</th>\n",
       "                        <td id=\"T_c59c6d66_e85e_11e9_b77a_887873317f76row0_col0\" class=\"data row0 col0\" >0.824485</td>\n",
       "                        <td id=\"T_c59c6d66_e85e_11e9_b77a_887873317f76row0_col1\" class=\"data row0 col1\" >0.9988</td>\n",
       "                        <td id=\"T_c59c6d66_e85e_11e9_b77a_887873317f76row0_col2\" class=\"data row0 col2\" >0.485316</td>\n",
       "                        <td id=\"T_c59c6d66_e85e_11e9_b77a_887873317f76row0_col3\" class=\"data row0 col3\" >0.5561</td>\n",
       "            </tr>\n",
       "            <tr>\n",
       "                        <th id=\"T_c59c6d66_e85e_11e9_b77a_887873317f76level0_row1\" class=\"row_heading level0 row1\" >aug2</th>\n",
       "                        <td id=\"T_c59c6d66_e85e_11e9_b77a_887873317f76row1_col0\" class=\"data row1 col0\" >0.795754</td>\n",
       "                        <td id=\"T_c59c6d66_e85e_11e9_b77a_887873317f76row1_col1\" class=\"data row1 col1\" >1</td>\n",
       "                        <td id=\"T_c59c6d66_e85e_11e9_b77a_887873317f76row1_col2\" class=\"data row1 col2\" >0.392362</td>\n",
       "                        <td id=\"T_c59c6d66_e85e_11e9_b77a_887873317f76row1_col3\" class=\"data row1 col3\" >0.4374</td>\n",
       "            </tr>\n",
       "            <tr>\n",
       "                        <th id=\"T_c59c6d66_e85e_11e9_b77a_887873317f76level0_row2\" class=\"row_heading level0 row2\" >aug3</th>\n",
       "                        <td id=\"T_c59c6d66_e85e_11e9_b77a_887873317f76row2_col0\" class=\"data row2 col0\" >0.574892</td>\n",
       "                        <td id=\"T_c59c6d66_e85e_11e9_b77a_887873317f76row2_col1\" class=\"data row2 col1\" >0.7498</td>\n",
       "                        <td id=\"T_c59c6d66_e85e_11e9_b77a_887873317f76row2_col2\" class=\"data row2 col2\" >0.37953</td>\n",
       "                        <td id=\"T_c59c6d66_e85e_11e9_b77a_887873317f76row2_col3\" class=\"data row2 col3\" >0.433</td>\n",
       "            </tr>\n",
       "    </tbody></table>"
      ],
      "text/plain": [
       "<pandas.io.formats.style.Styler at 0x18bfc692898>"
      ]
     },
     "execution_count": 27,
     "metadata": {},
     "output_type": "execute_result"
    }
   ],
   "source": [
    "wd_lr_data = all_aug.groupby(['Type'])['train_accuracy', 'test_accuracy'].agg(['mean', 'max'])\n",
    "\n",
    "(wd_lr_data.style.\n",
    "background_gradient(subset='test_accuracy', cmap='Blues'))\n",
    "# background_gradient(subset='loss', cmap='YlGn'))"
   ]
  },
  {
   "cell_type": "markdown",
   "metadata": {},
   "source": [
    "### Pick 2.1 and 2.2 csv results file for 224x224"
   ]
  },
  {
   "cell_type": "code",
   "execution_count": 57,
   "metadata": {},
   "outputs": [],
   "source": [
    "data = pd.read_csv('2.1_2.2_tiny_224_aug.csv')"
   ]
  },
  {
   "cell_type": "code",
   "execution_count": 58,
   "metadata": {},
   "outputs": [
    {
     "data": {
      "text/html": [
       "<div>\n",
       "<style scoped>\n",
       "    .dataframe tbody tr th:only-of-type {\n",
       "        vertical-align: middle;\n",
       "    }\n",
       "\n",
       "    .dataframe tbody tr th {\n",
       "        vertical-align: top;\n",
       "    }\n",
       "\n",
       "    .dataframe thead th {\n",
       "        text-align: right;\n",
       "    }\n",
       "</style>\n",
       "<table border=\"1\" class=\"dataframe\">\n",
       "  <thead>\n",
       "    <tr style=\"text-align: right;\">\n",
       "      <th></th>\n",
       "      <th>run</th>\n",
       "      <th>epoch</th>\n",
       "      <th>loss</th>\n",
       "      <th>train_accuracy</th>\n",
       "      <th>epoch duration</th>\n",
       "      <th>run duration</th>\n",
       "      <th>test_accuracy</th>\n",
       "      <th>total parameters</th>\n",
       "      <th>lr</th>\n",
       "      <th>batch_size</th>\n",
       "      <th>momentum</th>\n",
       "      <th>weight_decay</th>\n",
       "      <th>pretrained</th>\n",
       "      <th>overfit%</th>\n",
       "    </tr>\n",
       "  </thead>\n",
       "  <tbody>\n",
       "    <tr>\n",
       "      <th>0</th>\n",
       "      <td>1</td>\n",
       "      <td>1</td>\n",
       "      <td>2.174673</td>\n",
       "      <td>0.1970</td>\n",
       "      <td>39.733566</td>\n",
       "      <td>43.301188</td>\n",
       "      <td>0.1036</td>\n",
       "      <td>11181642</td>\n",
       "      <td>0.01</td>\n",
       "      <td>64</td>\n",
       "      <td>0.9</td>\n",
       "      <td>0.005</td>\n",
       "      <td>[False]</td>\n",
       "      <td>9.34</td>\n",
       "    </tr>\n",
       "    <tr>\n",
       "      <th>1</th>\n",
       "      <td>1</td>\n",
       "      <td>2</td>\n",
       "      <td>2.128704</td>\n",
       "      <td>0.2732</td>\n",
       "      <td>39.552495</td>\n",
       "      <td>116.723453</td>\n",
       "      <td>0.1673</td>\n",
       "      <td>11181642</td>\n",
       "      <td>0.01</td>\n",
       "      <td>64</td>\n",
       "      <td>0.9</td>\n",
       "      <td>0.005</td>\n",
       "      <td>[False]</td>\n",
       "      <td>10.59</td>\n",
       "    </tr>\n",
       "    <tr>\n",
       "      <th>2</th>\n",
       "      <td>1</td>\n",
       "      <td>3</td>\n",
       "      <td>1.881196</td>\n",
       "      <td>0.3378</td>\n",
       "      <td>39.491713</td>\n",
       "      <td>189.923020</td>\n",
       "      <td>0.2072</td>\n",
       "      <td>11181642</td>\n",
       "      <td>0.01</td>\n",
       "      <td>64</td>\n",
       "      <td>0.9</td>\n",
       "      <td>0.005</td>\n",
       "      <td>[False]</td>\n",
       "      <td>13.06</td>\n",
       "    </tr>\n",
       "    <tr>\n",
       "      <th>3</th>\n",
       "      <td>1</td>\n",
       "      <td>4</td>\n",
       "      <td>1.769763</td>\n",
       "      <td>0.3788</td>\n",
       "      <td>39.458410</td>\n",
       "      <td>263.231904</td>\n",
       "      <td>0.2768</td>\n",
       "      <td>11181642</td>\n",
       "      <td>0.01</td>\n",
       "      <td>64</td>\n",
       "      <td>0.9</td>\n",
       "      <td>0.005</td>\n",
       "      <td>[False]</td>\n",
       "      <td>10.20</td>\n",
       "    </tr>\n",
       "    <tr>\n",
       "      <th>4</th>\n",
       "      <td>1</td>\n",
       "      <td>5</td>\n",
       "      <td>1.607251</td>\n",
       "      <td>0.4278</td>\n",
       "      <td>39.546152</td>\n",
       "      <td>336.851931</td>\n",
       "      <td>0.3321</td>\n",
       "      <td>11181642</td>\n",
       "      <td>0.01</td>\n",
       "      <td>64</td>\n",
       "      <td>0.9</td>\n",
       "      <td>0.005</td>\n",
       "      <td>[False]</td>\n",
       "      <td>9.57</td>\n",
       "    </tr>\n",
       "  </tbody>\n",
       "</table>\n",
       "</div>"
      ],
      "text/plain": [
       "   run  epoch      loss  train_accuracy  epoch duration  run duration  \\\n",
       "0    1      1  2.174673          0.1970       39.733566     43.301188   \n",
       "1    1      2  2.128704          0.2732       39.552495    116.723453   \n",
       "2    1      3  1.881196          0.3378       39.491713    189.923020   \n",
       "3    1      4  1.769763          0.3788       39.458410    263.231904   \n",
       "4    1      5  1.607251          0.4278       39.546152    336.851931   \n",
       "\n",
       "   test_accuracy  total parameters    lr  batch_size  momentum  weight_decay  \\\n",
       "0         0.1036          11181642  0.01          64       0.9         0.005   \n",
       "1         0.1673          11181642  0.01          64       0.9         0.005   \n",
       "2         0.2072          11181642  0.01          64       0.9         0.005   \n",
       "3         0.2768          11181642  0.01          64       0.9         0.005   \n",
       "4         0.3321          11181642  0.01          64       0.9         0.005   \n",
       "\n",
       "  pretrained  overfit%  \n",
       "0    [False]      9.34  \n",
       "1    [False]     10.59  \n",
       "2    [False]     13.06  \n",
       "3    [False]     10.20  \n",
       "4    [False]      9.57  "
      ]
     },
     "execution_count": 58,
     "metadata": {},
     "output_type": "execute_result"
    }
   ],
   "source": [
    "data['overfit%'] = 100*(data['train_accuracy'] - data['test_accuracy'])\n",
    "data['overfit%'] = data['overfit%'].apply(lambda x: max(x, 0))\n",
    "\n",
    "data.drop(['Unnamed: 0'], axis = 1, inplace = True)\n",
    "data.head(5)"
   ]
  },
  {
   "cell_type": "code",
   "execution_count": 59,
   "metadata": {},
   "outputs": [
    {
     "name": "stdout",
     "output_type": "stream",
     "text": [
      "Time taken for execution (mins): 365.73129109999996\n"
     ]
    }
   ],
   "source": [
    "print('Time taken for execution (mins):', data[data.epoch == max(data.epoch)]['run duration'].sum()/60)"
   ]
  },
  {
   "cell_type": "code",
   "execution_count": 60,
   "metadata": {},
   "outputs": [
    {
     "name": "stdout",
     "output_type": "stream",
     "text": [
      "Number of epochs: 80\n",
      "Learning rates tried: [0.01  0.001]\n",
      "Weight decays tried: [0.005  0.001  0.0005]\n",
      "Batch size tried: [64]\n",
      "Pretrained weights settings tried: ['[False]' \"[True, 'all']\" '[True, 40]']\n"
     ]
    }
   ],
   "source": [
    "print('Number of epochs:', len(data.epoch.unique()))\n",
    "print('Learning rates tried:', data.lr.unique())\n",
    "print('Weight decays tried:', data.weight_decay.unique())\n",
    "print('Batch size tried:', data.batch_size.unique())\n",
    "print('Pretrained weights settings tried:', data.pretrained.unique())"
   ]
  },
  {
   "cell_type": "markdown",
   "metadata": {},
   "source": [
    "### Best configuration for pretrained = False"
   ]
  },
  {
   "cell_type": "code",
   "execution_count": 61,
   "metadata": {},
   "outputs": [
    {
     "data": {
      "text/plain": [
       "array(['[False]', \"[True, 'all']\", '[True, 40]'], dtype=object)"
      ]
     },
     "execution_count": 61,
     "metadata": {},
     "output_type": "execute_result"
    }
   ],
   "source": [
    "data.pretrained.unique()"
   ]
  },
  {
   "cell_type": "code",
   "execution_count": 62,
   "metadata": {},
   "outputs": [],
   "source": [
    "no_pretrain_data = data[data.pretrained == '[False]']"
   ]
  },
  {
   "cell_type": "code",
   "execution_count": 63,
   "metadata": {},
   "outputs": [
    {
     "data": {
      "text/html": [
       "<div>\n",
       "<style scoped>\n",
       "    .dataframe tbody tr th:only-of-type {\n",
       "        vertical-align: middle;\n",
       "    }\n",
       "\n",
       "    .dataframe tbody tr th {\n",
       "        vertical-align: top;\n",
       "    }\n",
       "\n",
       "    .dataframe thead th {\n",
       "        text-align: right;\n",
       "    }\n",
       "</style>\n",
       "<table border=\"1\" class=\"dataframe\">\n",
       "  <thead>\n",
       "    <tr style=\"text-align: right;\">\n",
       "      <th></th>\n",
       "      <th>run</th>\n",
       "      <th>epoch</th>\n",
       "      <th>loss</th>\n",
       "      <th>train_accuracy</th>\n",
       "      <th>test_accuracy</th>\n",
       "      <th>lr</th>\n",
       "      <th>weight_decay</th>\n",
       "      <th>pretrained</th>\n",
       "      <th>overfit%</th>\n",
       "    </tr>\n",
       "  </thead>\n",
       "  <tbody>\n",
       "    <tr>\n",
       "      <th>24</th>\n",
       "      <td>1</td>\n",
       "      <td>25</td>\n",
       "      <td>0.013943</td>\n",
       "      <td>1.0</td>\n",
       "      <td>0.598</td>\n",
       "      <td>0.01</td>\n",
       "      <td>0.005</td>\n",
       "      <td>[False]</td>\n",
       "      <td>40.2</td>\n",
       "    </tr>\n",
       "  </tbody>\n",
       "</table>\n",
       "</div>"
      ],
      "text/plain": [
       "    run  epoch      loss  train_accuracy  test_accuracy    lr  weight_decay  \\\n",
       "24    1     25  0.013943             1.0          0.598  0.01         0.005   \n",
       "\n",
       "   pretrained  overfit%  \n",
       "24    [False]      40.2  "
      ]
     },
     "execution_count": 63,
     "metadata": {},
     "output_type": "execute_result"
    }
   ],
   "source": [
    "no_pretrain_data.iloc[no_pretrain_data[no_pretrain_data.test_accuracy  == max(no_pretrain_data.test_accuracy)].index, :][['run', 'epoch', 'loss', 'train_accuracy', 'test_accuracy', 'lr', 'weight_decay', 'pretrained', 'overfit%']]"
   ]
  },
  {
   "cell_type": "code",
   "execution_count": 64,
   "metadata": {},
   "outputs": [],
   "source": [
    "best_run =no_pretrain_data[no_pretrain_data.test_accuracy == max(no_pretrain_data.test_accuracy)].run.values[0]"
   ]
  },
  {
   "cell_type": "code",
   "execution_count": 106,
   "metadata": {},
   "outputs": [
    {
     "data": {
      "image/png": "[encoded data removed]",
      "text/plain": [
       "<Figure size 576x432 with 1 Axes>"
      ]
     },
     "metadata": {
      "needs_background": "light"
     },
     "output_type": "display_data"
    }
   ],
   "source": [
    "fig = plt.figure(figsize = (8, 6))\n",
    "plt.plot(range(len(no_pretrain_data.epoch.unique())), no_pretrain_data[no_pretrain_data.run == best_run]['train_accuracy'], label = 'Train_scratch', linestyle = '--')\n",
    "plt.plot(range(len(no_pretrain_data.epoch.unique())), no_pretrain_data[no_pretrain_data.run == best_run]['test_accuracy'], label = 'Test_scratch')\n",
    "plt.title('Train v/s Test accuracy 224x224 - Tiny CIFAR; Pretrained = False', fontsize = 14)\n",
    "\n",
    "plt.xlabel('Epochs', fontsize = 16)\n",
    "plt.ylabel('Accuracy', fontsize = 16)\n",
    "plt.legend(loc = 'lower right', fontsize = 14)\n",
    "plt.xticks(fontsize = 12)\n",
    "plt.yticks(np.linspace(0.1, 1.0, 10), fontsize = 12)\n",
    "plt.show()\n",
    "fig.savefig('2.1 train_test_224.png', bbox_inches = 'tight')"
   ]
  },
  {
   "cell_type": "markdown",
   "metadata": {},
   "source": [
    "### Best configuration for pretrained = True"
   ]
  },
  {
   "cell_type": "code",
   "execution_count": 66,
   "metadata": {
    "scrolled": true
   },
   "outputs": [
    {
     "data": {
      "text/html": [
       "<div>\n",
       "<style scoped>\n",
       "    .dataframe tbody tr th:only-of-type {\n",
       "        vertical-align: middle;\n",
       "    }\n",
       "\n",
       "    .dataframe tbody tr th {\n",
       "        vertical-align: top;\n",
       "    }\n",
       "\n",
       "    .dataframe thead th {\n",
       "        text-align: right;\n",
       "    }\n",
       "</style>\n",
       "<table border=\"1\" class=\"dataframe\">\n",
       "  <thead>\n",
       "    <tr style=\"text-align: right;\">\n",
       "      <th></th>\n",
       "      <th>run</th>\n",
       "      <th>epoch</th>\n",
       "      <th>loss</th>\n",
       "      <th>train_accuracy</th>\n",
       "      <th>test_accuracy</th>\n",
       "      <th>lr</th>\n",
       "      <th>weight_decay</th>\n",
       "      <th>pretrained</th>\n",
       "      <th>overfit%</th>\n",
       "    </tr>\n",
       "  </thead>\n",
       "  <tbody>\n",
       "    <tr>\n",
       "      <th>101</th>\n",
       "      <td>2</td>\n",
       "      <td>22</td>\n",
       "      <td>0.005633</td>\n",
       "      <td>1.0</td>\n",
       "      <td>0.8985</td>\n",
       "      <td>0.01</td>\n",
       "      <td>0.005</td>\n",
       "      <td>[True, 'all']</td>\n",
       "      <td>10.15</td>\n",
       "    </tr>\n",
       "  </tbody>\n",
       "</table>\n",
       "</div>"
      ],
      "text/plain": [
       "     run  epoch      loss  train_accuracy  test_accuracy    lr  weight_decay  \\\n",
       "101    2     22  0.005633             1.0         0.8985  0.01         0.005   \n",
       "\n",
       "        pretrained  overfit%  \n",
       "101  [True, 'all']     10.15  "
      ]
     },
     "execution_count": 66,
     "metadata": {},
     "output_type": "execute_result"
    }
   ],
   "source": [
    "data.iloc[data[data.test_accuracy  == max(data.test_accuracy)].index, :][['run', 'epoch', 'loss', 'train_accuracy', 'test_accuracy', 'lr', 'weight_decay', 'pretrained', 'overfit%']].head(1)"
   ]
  },
  {
   "cell_type": "code",
   "execution_count": 67,
   "metadata": {},
   "outputs": [],
   "source": [
    "best_run_2 = data[data.test_accuracy == max(data.test_accuracy)].run.values[0]"
   ]
  },
  {
   "cell_type": "code",
   "execution_count": 107,
   "metadata": {},
   "outputs": [
    {
     "data": {
      "image/png": "[encoded data removed]",
      "text/plain": [
       "<Figure size 576x432 with 1 Axes>"
      ]
     },
     "metadata": {
      "needs_background": "light"
     },
     "output_type": "display_data"
    }
   ],
   "source": [
    "fig = plt.figure(figsize = (8, 6))\n",
    "\n",
    "plt.plot(range(len(data.epoch.unique())), data[data.run == best_run_2]['train_accuracy'], label = 'Train_Pretrain', linestyle = '--')\n",
    "plt.plot(range(len(data.epoch.unique())), data[data.run == best_run_2]['test_accuracy'], label = 'Test_Pretrain')\n",
    "\n",
    "plt.title('Train v/s Test accuracy 224x224 - Tiny CIFAR; Pretrained = True', fontsize = 14)\n",
    "\n",
    "plt.xlabel('Epochs', fontsize = 16)\n",
    "plt.ylabel('Accuracy', fontsize = 16)\n",
    "plt.legend(loc = 'lower right', fontsize = 14)\n",
    "plt.yticks(np.linspace(0.6, 1.0, 9), fontsize = 12)\n",
    "plt.xticks(fontsize = 12)\n",
    "plt.show()\n",
    "fig.savefig('2.2 train_test_224.png', bbox_inches = 'tight')"
   ]
  },
  {
   "cell_type": "code",
   "execution_count": 87,
   "metadata": {},
   "outputs": [
    {
     "data": {
      "image/png": "[encoded data removed]",
      "text/plain": [
       "<Figure size 576x432 with 1 Axes>"
      ]
     },
     "metadata": {
      "needs_background": "light"
     },
     "output_type": "display_data"
    }
   ],
   "source": [
    "fig = plt.figure(figsize = (8, 6))\n",
    "plt.plot(range(len(no_pretrain_data.epoch.unique())), no_pretrain_data[no_pretrain_data.run == best_run]['train_accuracy'], label = 'Train_Scratch', linestyle = '--')\n",
    "plt.plot(range(len(no_pretrain_data.epoch.unique())), no_pretrain_data[no_pretrain_data.run == best_run]['test_accuracy'], label = 'Test_Scratch')\n",
    "\n",
    "plt.plot(range(len(data.epoch.unique())), data[data.run == best_run_2]['train_accuracy'], label = 'Train_Pretrain', linestyle = '--', color = 'purple')\n",
    "plt.plot(range(len(data.epoch.unique())), data[data.run == best_run_2]['test_accuracy'], label = 'Test_Pretrain', color = 'grey')\n",
    "\n",
    "plt.title('Train v/s Test accuracy 224x224 - Tiny CIFAR; Pretrained = True', fontsize = 16)\n",
    "\n",
    "plt.xlabel('Epochs', fontsize = 16)\n",
    "plt.ylabel('Accuracy', fontsize = 16)\n",
    "plt.legend(loc = 'lower right', fontsize = 12)\n",
    "plt.yticks(np.linspace(0.4, 1.0, 13))\n",
    "plt.ylim(0.4)\n",
    "plt.show()\n",
    "# fig.savefig('2.2 train_test_224.png', bbox_inches = 'tight')"
   ]
  },
  {
   "cell_type": "markdown",
   "metadata": {},
   "source": [
    "### Effect of pretrained weights"
   ]
  },
  {
   "cell_type": "code",
   "execution_count": 113,
   "metadata": {},
   "outputs": [
    {
     "data": {
      "text/html": [
       "<style  type=\"text/css\" >\n",
       "    #T_f2bf25de_e86c_11e9_828e_887873317f76row0_col2 {\n",
       "            background-color:  #f7fbff;\n",
       "            color:  #000000;\n",
       "        }    #T_f2bf25de_e86c_11e9_828e_887873317f76row0_col3 {\n",
       "            background-color:  #f7fbff;\n",
       "            color:  #000000;\n",
       "        }    #T_f2bf25de_e86c_11e9_828e_887873317f76row1_col2 {\n",
       "            background-color:  #083674;\n",
       "            color:  #f1f1f1;\n",
       "        }    #T_f2bf25de_e86c_11e9_828e_887873317f76row1_col3 {\n",
       "            background-color:  #083979;\n",
       "            color:  #f1f1f1;\n",
       "        }    #T_f2bf25de_e86c_11e9_828e_887873317f76row2_col2 {\n",
       "            background-color:  #08306b;\n",
       "            color:  #f1f1f1;\n",
       "        }    #T_f2bf25de_e86c_11e9_828e_887873317f76row2_col3 {\n",
       "            background-color:  #08306b;\n",
       "            color:  #f1f1f1;\n",
       "        }</style><table id=\"T_f2bf25de_e86c_11e9_828e_887873317f76\" ><thead>    <tr>        <th class=\"blank level0\" ></th>        <th class=\"col_heading level0 col0\" colspan=2>train_accuracy</th>        <th class=\"col_heading level0 col2\" colspan=2>test_accuracy</th>        <th class=\"col_heading level0 col4\" colspan=2>overfit%</th>    </tr>    <tr>        <th class=\"blank level1\" ></th>        <th class=\"col_heading level1 col0\" >mean</th>        <th class=\"col_heading level1 col1\" >max</th>        <th class=\"col_heading level1 col2\" >mean</th>        <th class=\"col_heading level1 col3\" >max</th>        <th class=\"col_heading level1 col4\" >mean</th>        <th class=\"col_heading level1 col5\" >max</th>    </tr>    <tr>        <th class=\"index_name level0\" >pretrained</th>        <th class=\"blank\" ></th>        <th class=\"blank\" ></th>        <th class=\"blank\" ></th>        <th class=\"blank\" ></th>        <th class=\"blank\" ></th>        <th class=\"blank\" ></th>    </tr></thead><tbody>\n",
       "                <tr>\n",
       "                        <th id=\"T_f2bf25de_e86c_11e9_828e_887873317f76level0_row0\" class=\"row_heading level0 row0\" >[False]</th>\n",
       "                        <td id=\"T_f2bf25de_e86c_11e9_828e_887873317f76row0_col0\" class=\"data row0 col0\" >0.84412</td>\n",
       "                        <td id=\"T_f2bf25de_e86c_11e9_828e_887873317f76row0_col1\" class=\"data row0 col1\" >1</td>\n",
       "                        <td id=\"T_f2bf25de_e86c_11e9_828e_887873317f76row0_col2\" class=\"data row0 col2\" >0.502232</td>\n",
       "                        <td id=\"T_f2bf25de_e86c_11e9_828e_887873317f76row0_col3\" class=\"data row0 col3\" >0.598</td>\n",
       "                        <td id=\"T_f2bf25de_e86c_11e9_828e_887873317f76row0_col4\" class=\"data row0 col4\" >34.2581</td>\n",
       "                        <td id=\"T_f2bf25de_e86c_11e9_828e_887873317f76row0_col5\" class=\"data row0 col5\" >45.57</td>\n",
       "            </tr>\n",
       "            <tr>\n",
       "                        <th id=\"T_f2bf25de_e86c_11e9_828e_887873317f76level0_row1\" class=\"row_heading level0 row1\" >[True, 40]</th>\n",
       "                        <td id=\"T_f2bf25de_e86c_11e9_828e_887873317f76row1_col0\" class=\"data row1 col0\" >0.980944</td>\n",
       "                        <td id=\"T_f2bf25de_e86c_11e9_828e_887873317f76row1_col1\" class=\"data row1 col1\" >1</td>\n",
       "                        <td id=\"T_f2bf25de_e86c_11e9_828e_887873317f76row1_col2\" class=\"data row1 col2\" >0.871539</td>\n",
       "                        <td id=\"T_f2bf25de_e86c_11e9_828e_887873317f76row1_col3\" class=\"data row1 col3\" >0.8869</td>\n",
       "                        <td id=\"T_f2bf25de_e86c_11e9_828e_887873317f76row1_col4\" class=\"data row1 col4\" >11.1693</td>\n",
       "                        <td id=\"T_f2bf25de_e86c_11e9_828e_887873317f76row1_col5\" class=\"data row1 col5\" >13.84</td>\n",
       "            </tr>\n",
       "            <tr>\n",
       "                        <th id=\"T_f2bf25de_e86c_11e9_828e_887873317f76level0_row2\" class=\"row_heading level0 row2\" >[True, 'all']</th>\n",
       "                        <td id=\"T_f2bf25de_e86c_11e9_828e_887873317f76row2_col0\" class=\"data row2 col0\" >0.978142</td>\n",
       "                        <td id=\"T_f2bf25de_e86c_11e9_828e_887873317f76row2_col1\" class=\"data row2 col1\" >1</td>\n",
       "                        <td id=\"T_f2bf25de_e86c_11e9_828e_887873317f76row2_col2\" class=\"data row2 col2\" >0.881803</td>\n",
       "                        <td id=\"T_f2bf25de_e86c_11e9_828e_887873317f76row2_col3\" class=\"data row2 col3\" >0.8985</td>\n",
       "                        <td id=\"T_f2bf25de_e86c_11e9_828e_887873317f76row2_col4\" class=\"data row2 col4\" >9.848</td>\n",
       "                        <td id=\"T_f2bf25de_e86c_11e9_828e_887873317f76row2_col5\" class=\"data row2 col5\" >11.84</td>\n",
       "            </tr>\n",
       "    </tbody></table>"
      ],
      "text/plain": [
       "<pandas.io.formats.style.Styler at 0x18bff7d00b8>"
      ]
     },
     "execution_count": 113,
     "metadata": {},
     "output_type": "execute_result"
    }
   ],
   "source": [
    "wd_data = data.groupby(['pretrained'])['train_accuracy', 'test_accuracy', 'overfit%'].agg(['mean', 'max'])\n",
    "\n",
    "try: wd_data = wd_data.iloc[[0, 2, 1], :]\n",
    "except: pass\n",
    "\n",
    "(wd_data.style.\n",
    "# background_gradient(subset='overfit%', cmap='Blues').\n",
    "background_gradient(subset='test_accuracy', cmap='Blues'))"
   ]
  },
  {
   "cell_type": "markdown",
   "metadata": {},
   "source": [
    "### Pick 2.3 csv results file for 224x224 (Dropout)"
   ]
  },
  {
   "cell_type": "code",
   "execution_count": 118,
   "metadata": {},
   "outputs": [],
   "source": [
    "data = pd.read_csv('2.3_tiny_224_DO.csv')"
   ]
  },
  {
   "cell_type": "code",
   "execution_count": 119,
   "metadata": {},
   "outputs": [
    {
     "data": {
      "text/html": [
       "<div>\n",
       "<style scoped>\n",
       "    .dataframe tbody tr th:only-of-type {\n",
       "        vertical-align: middle;\n",
       "    }\n",
       "\n",
       "    .dataframe tbody tr th {\n",
       "        vertical-align: top;\n",
       "    }\n",
       "\n",
       "    .dataframe thead th {\n",
       "        text-align: right;\n",
       "    }\n",
       "</style>\n",
       "<table border=\"1\" class=\"dataframe\">\n",
       "  <thead>\n",
       "    <tr style=\"text-align: right;\">\n",
       "      <th></th>\n",
       "      <th>run</th>\n",
       "      <th>epoch</th>\n",
       "      <th>loss</th>\n",
       "      <th>train_accuracy</th>\n",
       "      <th>epoch duration</th>\n",
       "      <th>run duration</th>\n",
       "      <th>test_accuracy</th>\n",
       "      <th>total parameters</th>\n",
       "      <th>lr</th>\n",
       "      <th>batch_size</th>\n",
       "      <th>momentum</th>\n",
       "      <th>weight_decay</th>\n",
       "      <th>p</th>\n",
       "      <th>num_drop_layers</th>\n",
       "      <th>pretrained</th>\n",
       "      <th>overfit%</th>\n",
       "    </tr>\n",
       "  </thead>\n",
       "  <tbody>\n",
       "    <tr>\n",
       "      <th>0</th>\n",
       "      <td>1</td>\n",
       "      <td>1</td>\n",
       "      <td>1.297954</td>\n",
       "      <td>0.5774</td>\n",
       "      <td>42.434582</td>\n",
       "      <td>46.075252</td>\n",
       "      <td>0.7578</td>\n",
       "      <td>11181642</td>\n",
       "      <td>0.001</td>\n",
       "      <td>32</td>\n",
       "      <td>0.9</td>\n",
       "      <td>0.001</td>\n",
       "      <td>0.1</td>\n",
       "      <td>1</td>\n",
       "      <td>[True, 'all']</td>\n",
       "      <td>0.00</td>\n",
       "    </tr>\n",
       "    <tr>\n",
       "      <th>1</th>\n",
       "      <td>1</td>\n",
       "      <td>2</td>\n",
       "      <td>0.681963</td>\n",
       "      <td>0.7584</td>\n",
       "      <td>40.871347</td>\n",
       "      <td>121.359242</td>\n",
       "      <td>0.6294</td>\n",
       "      <td>11181642</td>\n",
       "      <td>0.001</td>\n",
       "      <td>32</td>\n",
       "      <td>0.9</td>\n",
       "      <td>0.001</td>\n",
       "      <td>0.1</td>\n",
       "      <td>1</td>\n",
       "      <td>[True, 'all']</td>\n",
       "      <td>12.90</td>\n",
       "    </tr>\n",
       "    <tr>\n",
       "      <th>2</th>\n",
       "      <td>1</td>\n",
       "      <td>3</td>\n",
       "      <td>0.419680</td>\n",
       "      <td>0.8498</td>\n",
       "      <td>40.915749</td>\n",
       "      <td>194.984578</td>\n",
       "      <td>0.7816</td>\n",
       "      <td>11181642</td>\n",
       "      <td>0.001</td>\n",
       "      <td>32</td>\n",
       "      <td>0.9</td>\n",
       "      <td>0.001</td>\n",
       "      <td>0.1</td>\n",
       "      <td>1</td>\n",
       "      <td>[True, 'all']</td>\n",
       "      <td>6.82</td>\n",
       "    </tr>\n",
       "    <tr>\n",
       "      <th>3</th>\n",
       "      <td>1</td>\n",
       "      <td>4</td>\n",
       "      <td>0.319178</td>\n",
       "      <td>0.8866</td>\n",
       "      <td>40.759831</td>\n",
       "      <td>268.770158</td>\n",
       "      <td>0.8128</td>\n",
       "      <td>11181642</td>\n",
       "      <td>0.001</td>\n",
       "      <td>32</td>\n",
       "      <td>0.9</td>\n",
       "      <td>0.001</td>\n",
       "      <td>0.1</td>\n",
       "      <td>1</td>\n",
       "      <td>[True, 'all']</td>\n",
       "      <td>7.38</td>\n",
       "    </tr>\n",
       "    <tr>\n",
       "      <th>4</th>\n",
       "      <td>1</td>\n",
       "      <td>5</td>\n",
       "      <td>0.197361</td>\n",
       "      <td>0.9306</td>\n",
       "      <td>40.968185</td>\n",
       "      <td>342.926343</td>\n",
       "      <td>0.8176</td>\n",
       "      <td>11181642</td>\n",
       "      <td>0.001</td>\n",
       "      <td>32</td>\n",
       "      <td>0.9</td>\n",
       "      <td>0.001</td>\n",
       "      <td>0.1</td>\n",
       "      <td>1</td>\n",
       "      <td>[True, 'all']</td>\n",
       "      <td>11.30</td>\n",
       "    </tr>\n",
       "  </tbody>\n",
       "</table>\n",
       "</div>"
      ],
      "text/plain": [
       "   run  epoch      loss  train_accuracy  epoch duration  run duration  \\\n",
       "0    1      1  1.297954          0.5774       42.434582     46.075252   \n",
       "1    1      2  0.681963          0.7584       40.871347    121.359242   \n",
       "2    1      3  0.419680          0.8498       40.915749    194.984578   \n",
       "3    1      4  0.319178          0.8866       40.759831    268.770158   \n",
       "4    1      5  0.197361          0.9306       40.968185    342.926343   \n",
       "\n",
       "   test_accuracy  total parameters     lr  batch_size  momentum  weight_decay  \\\n",
       "0         0.7578          11181642  0.001          32       0.9         0.001   \n",
       "1         0.6294          11181642  0.001          32       0.9         0.001   \n",
       "2         0.7816          11181642  0.001          32       0.9         0.001   \n",
       "3         0.8128          11181642  0.001          32       0.9         0.001   \n",
       "4         0.8176          11181642  0.001          32       0.9         0.001   \n",
       "\n",
       "     p  num_drop_layers     pretrained  overfit%  \n",
       "0  0.1                1  [True, 'all']      0.00  \n",
       "1  0.1                1  [True, 'all']     12.90  \n",
       "2  0.1                1  [True, 'all']      6.82  \n",
       "3  0.1                1  [True, 'all']      7.38  \n",
       "4  0.1                1  [True, 'all']     11.30  "
      ]
     },
     "execution_count": 119,
     "metadata": {},
     "output_type": "execute_result"
    }
   ],
   "source": [
    "data['overfit%'] = 100*(data['train_accuracy'] - data['test_accuracy'])\n",
    "data['overfit%'] = data['overfit%'].apply(lambda x: max(x, 0))\n",
    "\n",
    "data.drop(['Unnamed: 0'], axis = 1, inplace = True)\n",
    "data.head(5)"
   ]
  },
  {
   "cell_type": "code",
   "execution_count": 120,
   "metadata": {},
   "outputs": [
    {
     "name": "stdout",
     "output_type": "stream",
     "text": [
      "Time taken for execution (mins): 1135.2133263333337\n"
     ]
    }
   ],
   "source": [
    "print('Time taken for execution (mins):', data[data.epoch == max(data.epoch)]['run duration'].sum()/60)"
   ]
  },
  {
   "cell_type": "code",
   "execution_count": 121,
   "metadata": {},
   "outputs": [
    {
     "name": "stdout",
     "output_type": "stream",
     "text": [
      "Number of epochs: 30\n",
      "Learning rates tried: [0.001]\n",
      "Weight decays tried: [0.001]\n",
      "Batch size tried: [32]\n",
      "Pretrained weights settings tried: [\"[True, 'all']\" '[False]']\n",
      "Number of dropout layers: [1 2 3 4 5]\n",
      "Dropout rate: [0.1 0.2 0.3]\n"
     ]
    }
   ],
   "source": [
    "print('Number of epochs:', len(data.epoch.unique()))\n",
    "print('Learning rates tried:', data.lr.unique())\n",
    "print('Weight decays tried:', data.weight_decay.unique())\n",
    "print('Batch size tried:', data.batch_size.unique())\n",
    "print('Pretrained weights settings tried:', data.pretrained.unique())\n",
    "print('Number of dropout layers:', data.num_drop_layers.unique())\n",
    "print('Dropout rate:', data.p.unique())"
   ]
  },
  {
   "cell_type": "code",
   "execution_count": 129,
   "metadata": {},
   "outputs": [
    {
     "data": {
      "text/html": [
       "<div>\n",
       "<style scoped>\n",
       "    .dataframe tbody tr th:only-of-type {\n",
       "        vertical-align: middle;\n",
       "    }\n",
       "\n",
       "    .dataframe tbody tr th {\n",
       "        vertical-align: top;\n",
       "    }\n",
       "\n",
       "    .dataframe thead th {\n",
       "        text-align: right;\n",
       "    }\n",
       "</style>\n",
       "<table border=\"1\" class=\"dataframe\">\n",
       "  <thead>\n",
       "    <tr style=\"text-align: right;\">\n",
       "      <th></th>\n",
       "      <th>run</th>\n",
       "      <th>epoch</th>\n",
       "      <th>loss</th>\n",
       "      <th>train_accuracy</th>\n",
       "      <th>test_accuracy</th>\n",
       "      <th>p</th>\n",
       "      <th>num_drop_layers</th>\n",
       "      <th>pretrained</th>\n",
       "      <th>overfit%</th>\n",
       "    </tr>\n",
       "  </thead>\n",
       "  <tbody>\n",
       "    <tr>\n",
       "      <th>54</th>\n",
       "      <td>2</td>\n",
       "      <td>25</td>\n",
       "      <td>0.00029</td>\n",
       "      <td>1.0</td>\n",
       "      <td>0.9056</td>\n",
       "      <td>0.1</td>\n",
       "      <td>2</td>\n",
       "      <td>[True, 'all']</td>\n",
       "      <td>9.44</td>\n",
       "    </tr>\n",
       "  </tbody>\n",
       "</table>\n",
       "</div>"
      ],
      "text/plain": [
       "    run  epoch     loss  train_accuracy  test_accuracy    p  num_drop_layers  \\\n",
       "54    2     25  0.00029             1.0         0.9056  0.1                2   \n",
       "\n",
       "       pretrained  overfit%  \n",
       "54  [True, 'all']      9.44  "
      ]
     },
     "execution_count": 129,
     "metadata": {},
     "output_type": "execute_result"
    }
   ],
   "source": [
    "data[data.test_accuracy == max(data.test_accuracy)][['run', 'epoch', 'loss', 'train_accuracy', 'test_accuracy', 'p', 'num_drop_layers', 'pretrained', 'overfit%']]"
   ]
  },
  {
   "cell_type": "code",
   "execution_count": 130,
   "metadata": {},
   "outputs": [],
   "source": [
    "best_run = data[data.test_accuracy == max(data.test_accuracy)].run.values[0]"
   ]
  },
  {
   "cell_type": "code",
   "execution_count": 131,
   "metadata": {},
   "outputs": [
    {
     "data": {
      "image/png": "[encoded data removed]",
      "text/plain": [
       "<Figure size 576x432 with 1 Axes>"
      ]
     },
     "metadata": {
      "needs_background": "light"
     },
     "output_type": "display_data"
    }
   ],
   "source": [
    "fig = plt.figure(figsize = (8, 6))\n",
    "plt.plot(range(len(data.epoch.unique())), data[data.run == best_run]['train_accuracy'], label = 'Train', linestyle = '--')\n",
    "plt.plot(range(len(data.epoch.unique())), data[data.run == best_run]['test_accuracy'], label = 'Test')\n",
    "plt.title('Train v/s Test accuracy 224x224 - Tiny CIFAR; Dropout', fontsize = 16)\n",
    "\n",
    "plt.xlabel('Epochs', fontsize = 16)\n",
    "plt.ylabel('Accuracy', fontsize = 16)\n",
    "plt.legend(loc = 'lower right', fontsize = 15)\n",
    "plt.yticks(np.linspace(0.6, 1.0, 9))\n",
    "plt.show()\n",
    "fig.savefig('2.3 train_test_224.png', bbox_inches = 'tight')"
   ]
  },
  {
   "cell_type": "markdown",
   "metadata": {},
   "source": [
    "### Effect of pretrained weights"
   ]
  },
  {
   "cell_type": "code",
   "execution_count": 132,
   "metadata": {},
   "outputs": [
    {
     "data": {
      "text/html": [
       "<style  type=\"text/css\" >\n",
       "    #T_fb8230f4_e98e_11e9_bb6e_887873317f76row0_col2 {\n",
       "            background-color:  #f7fbff;\n",
       "            color:  #000000;\n",
       "        }    #T_fb8230f4_e98e_11e9_bb6e_887873317f76row0_col3 {\n",
       "            background-color:  #f7fbff;\n",
       "            color:  #000000;\n",
       "        }    #T_fb8230f4_e98e_11e9_bb6e_887873317f76row1_col2 {\n",
       "            background-color:  #08306b;\n",
       "            color:  #f1f1f1;\n",
       "        }    #T_fb8230f4_e98e_11e9_bb6e_887873317f76row1_col3 {\n",
       "            background-color:  #08306b;\n",
       "            color:  #f1f1f1;\n",
       "        }</style><table id=\"T_fb8230f4_e98e_11e9_bb6e_887873317f76\" ><thead>    <tr>        <th class=\"blank level0\" ></th>        <th class=\"col_heading level0 col0\" colspan=2>train_accuracy</th>        <th class=\"col_heading level0 col2\" colspan=2>test_accuracy</th>        <th class=\"col_heading level0 col4\" colspan=2>overfit%</th>    </tr>    <tr>        <th class=\"blank level1\" ></th>        <th class=\"col_heading level1 col0\" >mean</th>        <th class=\"col_heading level1 col1\" >max</th>        <th class=\"col_heading level1 col2\" >mean</th>        <th class=\"col_heading level1 col3\" >max</th>        <th class=\"col_heading level1 col4\" >mean</th>        <th class=\"col_heading level1 col5\" >max</th>    </tr>    <tr>        <th class=\"index_name level0\" >pretrained</th>        <th class=\"blank\" ></th>        <th class=\"blank\" ></th>        <th class=\"blank\" ></th>        <th class=\"blank\" ></th>        <th class=\"blank\" ></th>        <th class=\"blank\" ></th>    </tr></thead><tbody>\n",
       "                <tr>\n",
       "                        <th id=\"T_fb8230f4_e98e_11e9_bb6e_887873317f76level0_row0\" class=\"row_heading level0 row0\" >[False]</th>\n",
       "                        <td id=\"T_fb8230f4_e98e_11e9_bb6e_887873317f76row0_col0\" class=\"data row0 col0\" >0.395038</td>\n",
       "                        <td id=\"T_fb8230f4_e98e_11e9_bb6e_887873317f76row0_col1\" class=\"data row0 col1\" >0.6614</td>\n",
       "                        <td id=\"T_fb8230f4_e98e_11e9_bb6e_887873317f76row0_col2\" class=\"data row0 col2\" >0.31469</td>\n",
       "                        <td id=\"T_fb8230f4_e98e_11e9_bb6e_887873317f76row0_col3\" class=\"data row0 col3\" >0.4094</td>\n",
       "                        <td id=\"T_fb8230f4_e98e_11e9_bb6e_887873317f76row0_col4\" class=\"data row0 col4\" >8.17533</td>\n",
       "                        <td id=\"T_fb8230f4_e98e_11e9_bb6e_887873317f76row0_col5\" class=\"data row0 col5\" >31.43</td>\n",
       "            </tr>\n",
       "            <tr>\n",
       "                        <th id=\"T_fb8230f4_e98e_11e9_bb6e_887873317f76level0_row1\" class=\"row_heading level0 row1\" >[True, 'all']</th>\n",
       "                        <td id=\"T_fb8230f4_e98e_11e9_bb6e_887873317f76row1_col0\" class=\"data row1 col0\" >0.949471</td>\n",
       "                        <td id=\"T_fb8230f4_e98e_11e9_bb6e_887873317f76row1_col1\" class=\"data row1 col1\" >1</td>\n",
       "                        <td id=\"T_fb8230f4_e98e_11e9_bb6e_887873317f76row1_col2\" class=\"data row1 col2\" >0.850896</td>\n",
       "                        <td id=\"T_fb8230f4_e98e_11e9_bb6e_887873317f76row1_col3\" class=\"data row1 col3\" >0.9056</td>\n",
       "                        <td id=\"T_fb8230f4_e98e_11e9_bb6e_887873317f76row1_col4\" class=\"data row1 col4\" >10.5671</td>\n",
       "                        <td id=\"T_fb8230f4_e98e_11e9_bb6e_887873317f76row1_col5\" class=\"data row1 col5\" >18.75</td>\n",
       "            </tr>\n",
       "    </tbody></table>"
      ],
      "text/plain": [
       "<pandas.io.formats.style.Styler at 0x18bff82eda0>"
      ]
     },
     "execution_count": 132,
     "metadata": {},
     "output_type": "execute_result"
    }
   ],
   "source": [
    "wd_data = data.groupby(['pretrained'])['train_accuracy', 'test_accuracy', 'overfit%'].agg(['mean', 'max'])\n",
    "\n",
    "try: wd_data = wd_data.iloc[[0, 2, 1], :]\n",
    "except: pass\n",
    "\n",
    "(wd_data.style.\n",
    "# background_gradient(subset='overfit%', cmap='Blues').\n",
    "background_gradient(subset='test_accuracy', cmap='Blues'))"
   ]
  },
  {
   "cell_type": "code",
   "execution_count": 133,
   "metadata": {},
   "outputs": [
    {
     "data": {
      "text/html": [
       "<style  type=\"text/css\" >\n",
       "    #T_1246c8f4_e990_11e9_8f41_887873317f76row0_col1 {\n",
       "            background-color:  #f5f9fe;\n",
       "            color:  #000000;\n",
       "        }    #T_1246c8f4_e990_11e9_8f41_887873317f76row0_col2 {\n",
       "            background-color:  #004529;\n",
       "            color:  #f1f1f1;\n",
       "        }    #T_1246c8f4_e990_11e9_8f41_887873317f76row1_col1 {\n",
       "            background-color:  #f2f8fd;\n",
       "            color:  #000000;\n",
       "        }    #T_1246c8f4_e990_11e9_8f41_887873317f76row1_col2 {\n",
       "            background-color:  #0a703a;\n",
       "            color:  #f1f1f1;\n",
       "        }    #T_1246c8f4_e990_11e9_8f41_887873317f76row2_col1 {\n",
       "            background-color:  #f7fbff;\n",
       "            color:  #000000;\n",
       "        }    #T_1246c8f4_e990_11e9_8f41_887873317f76row2_col2 {\n",
       "            background-color:  #62bb6e;\n",
       "            color:  #000000;\n",
       "        }    #T_1246c8f4_e990_11e9_8f41_887873317f76row3_col1 {\n",
       "            background-color:  #f7fbff;\n",
       "            color:  #000000;\n",
       "        }    #T_1246c8f4_e990_11e9_8f41_887873317f76row3_col2 {\n",
       "            background-color:  #d7efa2;\n",
       "            color:  #000000;\n",
       "        }    #T_1246c8f4_e990_11e9_8f41_887873317f76row4_col1 {\n",
       "            background-color:  #f6faff;\n",
       "            color:  #000000;\n",
       "        }    #T_1246c8f4_e990_11e9_8f41_887873317f76row4_col2 {\n",
       "            background-color:  #ffffe5;\n",
       "            color:  #000000;\n",
       "        }    #T_1246c8f4_e990_11e9_8f41_887873317f76row5_col1 {\n",
       "            background-color:  #08306b;\n",
       "            color:  #f1f1f1;\n",
       "        }    #T_1246c8f4_e990_11e9_8f41_887873317f76row5_col2 {\n",
       "            background-color:  #1c7e40;\n",
       "            color:  #f1f1f1;\n",
       "        }    #T_1246c8f4_e990_11e9_8f41_887873317f76row6_col1 {\n",
       "            background-color:  #08306b;\n",
       "            color:  #f1f1f1;\n",
       "        }    #T_1246c8f4_e990_11e9_8f41_887873317f76row6_col2 {\n",
       "            background-color:  #1a7d40;\n",
       "            color:  #f1f1f1;\n",
       "        }    #T_1246c8f4_e990_11e9_8f41_887873317f76row7_col1 {\n",
       "            background-color:  #083573;\n",
       "            color:  #f1f1f1;\n",
       "        }    #T_1246c8f4_e990_11e9_8f41_887873317f76row7_col2 {\n",
       "            background-color:  #0c723b;\n",
       "            color:  #f1f1f1;\n",
       "        }    #T_1246c8f4_e990_11e9_8f41_887873317f76row8_col1 {\n",
       "            background-color:  #083877;\n",
       "            color:  #f1f1f1;\n",
       "        }    #T_1246c8f4_e990_11e9_8f41_887873317f76row8_col2 {\n",
       "            background-color:  #0b713b;\n",
       "            color:  #f1f1f1;\n",
       "        }    #T_1246c8f4_e990_11e9_8f41_887873317f76row9_col1 {\n",
       "            background-color:  #083e81;\n",
       "            color:  #f1f1f1;\n",
       "        }    #T_1246c8f4_e990_11e9_8f41_887873317f76row9_col2 {\n",
       "            background-color:  #006636;\n",
       "            color:  #f1f1f1;\n",
       "        }</style><table id=\"T_1246c8f4_e990_11e9_8f41_887873317f76\" ><thead>    <tr>        <th class=\"blank\" ></th>        <th class=\"blank level0\" ></th>        <th class=\"col_heading level0 col0\" >train_accuracy</th>        <th class=\"col_heading level0 col1\" >test_accuracy</th>        <th class=\"col_heading level0 col2\" >overfit%</th>    </tr>    <tr>        <th class=\"index_name level0\" >pretrained</th>        <th class=\"index_name level1\" >num_drop_layers</th>        <th class=\"blank\" ></th>        <th class=\"blank\" ></th>        <th class=\"blank\" ></th>    </tr></thead><tbody>\n",
       "                <tr>\n",
       "                        <th id=\"T_1246c8f4_e990_11e9_8f41_887873317f76level0_row0\" class=\"row_heading level0 row0\" rowspan=5>[False]</th>\n",
       "                        <th id=\"T_1246c8f4_e990_11e9_8f41_887873317f76level1_row0\" class=\"row_heading level1 row0\" >1</th>\n",
       "                        <td id=\"T_1246c8f4_e990_11e9_8f41_887873317f76row0_col0\" class=\"data row0 col0\" >0.437358</td>\n",
       "                        <td id=\"T_1246c8f4_e990_11e9_8f41_887873317f76row0_col1\" class=\"data row0 col1\" >0.317889</td>\n",
       "                        <td id=\"T_1246c8f4_e990_11e9_8f41_887873317f76row0_col2\" class=\"data row0 col2\" >12.052</td>\n",
       "            </tr>\n",
       "            <tr>\n",
       "                                <th id=\"T_1246c8f4_e990_11e9_8f41_887873317f76level1_row1\" class=\"row_heading level1 row1\" >2</th>\n",
       "                        <td id=\"T_1246c8f4_e990_11e9_8f41_887873317f76row1_col0\" class=\"data row1 col0\" >0.427887</td>\n",
       "                        <td id=\"T_1246c8f4_e990_11e9_8f41_887873317f76row1_col1\" class=\"data row1 col1\" >0.322452</td>\n",
       "                        <td id=\"T_1246c8f4_e990_11e9_8f41_887873317f76row1_col2\" class=\"data row1 col2\" >10.722</td>\n",
       "            </tr>\n",
       "            <tr>\n",
       "                                <th id=\"T_1246c8f4_e990_11e9_8f41_887873317f76level1_row2\" class=\"row_heading level1 row2\" >3</th>\n",
       "                        <td id=\"T_1246c8f4_e990_11e9_8f41_887873317f76row2_col0\" class=\"data row2 col0\" >0.392809</td>\n",
       "                        <td id=\"T_1246c8f4_e990_11e9_8f41_887873317f76row2_col1\" class=\"data row2 col1\" >0.310332</td>\n",
       "                        <td id=\"T_1246c8f4_e990_11e9_8f41_887873317f76row2_col2\" class=\"data row2 col2\" >8.33022</td>\n",
       "            </tr>\n",
       "            <tr>\n",
       "                                <th id=\"T_1246c8f4_e990_11e9_8f41_887873317f76level1_row3\" class=\"row_heading level1 row3\" >4</th>\n",
       "                        <td id=\"T_1246c8f4_e990_11e9_8f41_887873317f76row3_col0\" class=\"data row3 col0\" >0.368133</td>\n",
       "                        <td id=\"T_1246c8f4_e990_11e9_8f41_887873317f76row3_col1\" class=\"data row3 col1\" >0.309381</td>\n",
       "                        <td id=\"T_1246c8f4_e990_11e9_8f41_887873317f76row3_col2\" class=\"data row3 col2\" >5.94544</td>\n",
       "            </tr>\n",
       "            <tr>\n",
       "                                <th id=\"T_1246c8f4_e990_11e9_8f41_887873317f76level1_row4\" class=\"row_heading level1 row4\" >5</th>\n",
       "                        <td id=\"T_1246c8f4_e990_11e9_8f41_887873317f76row4_col0\" class=\"data row4 col0\" >0.349004</td>\n",
       "                        <td id=\"T_1246c8f4_e990_11e9_8f41_887873317f76row4_col1\" class=\"data row4 col1\" >0.313393</td>\n",
       "                        <td id=\"T_1246c8f4_e990_11e9_8f41_887873317f76row4_col2\" class=\"data row4 col2\" >3.827</td>\n",
       "            </tr>\n",
       "            <tr>\n",
       "                        <th id=\"T_1246c8f4_e990_11e9_8f41_887873317f76level0_row5\" class=\"row_heading level0 row5\" rowspan=5>[True, 'all']</th>\n",
       "                        <th id=\"T_1246c8f4_e990_11e9_8f41_887873317f76level1_row5\" class=\"row_heading level1 row5\" >1</th>\n",
       "                        <td id=\"T_1246c8f4_e990_11e9_8f41_887873317f76row5_col0\" class=\"data row5 col0\" >0.958789</td>\n",
       "                        <td id=\"T_1246c8f4_e990_11e9_8f41_887873317f76row5_col1\" class=\"data row5 col1\" >0.863848</td>\n",
       "                        <td id=\"T_1246c8f4_e990_11e9_8f41_887873317f76row5_col2\" class=\"data row5 col2\" >10.2064</td>\n",
       "            </tr>\n",
       "            <tr>\n",
       "                                <th id=\"T_1246c8f4_e990_11e9_8f41_887873317f76level1_row6\" class=\"row_heading level1 row6\" >2</th>\n",
       "                        <td id=\"T_1246c8f4_e990_11e9_8f41_887873317f76row6_col0\" class=\"data row6 col0\" >0.957478</td>\n",
       "                        <td id=\"T_1246c8f4_e990_11e9_8f41_887873317f76row6_col1\" class=\"data row6 col1\" >0.862017</td>\n",
       "                        <td id=\"T_1246c8f4_e990_11e9_8f41_887873317f76row6_col2\" class=\"data row6 col2\" >10.2388</td>\n",
       "            </tr>\n",
       "            <tr>\n",
       "                                <th id=\"T_1246c8f4_e990_11e9_8f41_887873317f76level1_row7\" class=\"row_heading level1 row7\" >3</th>\n",
       "                        <td id=\"T_1246c8f4_e990_11e9_8f41_887873317f76row7_col0\" class=\"data row7 col0\" >0.950647</td>\n",
       "                        <td id=\"T_1246c8f4_e990_11e9_8f41_887873317f76row7_col1\" class=\"data row7 col1\" >0.851899</td>\n",
       "                        <td id=\"T_1246c8f4_e990_11e9_8f41_887873317f76row7_col2\" class=\"data row7 col2\" >10.6506</td>\n",
       "            </tr>\n",
       "            <tr>\n",
       "                                <th id=\"T_1246c8f4_e990_11e9_8f41_887873317f76level1_row8\" class=\"row_heading level1 row8\" >4</th>\n",
       "                        <td id=\"T_1246c8f4_e990_11e9_8f41_887873317f76row8_col0\" class=\"data row8 col0\" >0.944433</td>\n",
       "                        <td id=\"T_1246c8f4_e990_11e9_8f41_887873317f76row8_col1\" class=\"data row8 col1\" >0.844872</td>\n",
       "                        <td id=\"T_1246c8f4_e990_11e9_8f41_887873317f76row8_col2\" class=\"data row8 col2\" >10.6783</td>\n",
       "            </tr>\n",
       "            <tr>\n",
       "                                <th id=\"T_1246c8f4_e990_11e9_8f41_887873317f76level1_row9\" class=\"row_heading level1 row9\" >5</th>\n",
       "                        <td id=\"T_1246c8f4_e990_11e9_8f41_887873317f76row9_col0\" class=\"data row9 col0\" >0.936007</td>\n",
       "                        <td id=\"T_1246c8f4_e990_11e9_8f41_887873317f76row9_col1\" class=\"data row9 col1\" >0.831844</td>\n",
       "                        <td id=\"T_1246c8f4_e990_11e9_8f41_887873317f76row9_col2\" class=\"data row9 col2\" >11.0614</td>\n",
       "            </tr>\n",
       "    </tbody></table>"
      ],
      "text/plain": [
       "<pandas.io.formats.style.Styler at 0x18bfe2c9e48>"
      ]
     },
     "execution_count": 133,
     "metadata": {},
     "output_type": "execute_result"
    }
   ],
   "source": [
    "wd_data = data.groupby(['pretrained', 'num_drop_layers'])['train_accuracy', 'test_accuracy', 'overfit%'].mean()\n",
    "(wd_data.style.\n",
    "background_gradient(subset='overfit%', cmap='YlGn').\n",
    "background_gradient(subset='test_accuracy', cmap='Blues'))"
   ]
  },
  {
   "cell_type": "markdown",
   "metadata": {},
   "source": [
    "### Effect of dropout rate"
   ]
  },
  {
   "cell_type": "code",
   "execution_count": 134,
   "metadata": {},
   "outputs": [
    {
     "data": {
      "text/html": [
       "<style  type=\"text/css\" >\n",
       "    #T_d1178740_e991_11e9_8c51_887873317f76row0_col2 {\n",
       "            background-color:  #08306b;\n",
       "            color:  #f1f1f1;\n",
       "        }    #T_d1178740_e991_11e9_8c51_887873317f76row0_col3 {\n",
       "            background-color:  #08306b;\n",
       "            color:  #f1f1f1;\n",
       "        }    #T_d1178740_e991_11e9_8c51_887873317f76row1_col2 {\n",
       "            background-color:  #3d8dc4;\n",
       "            color:  #000000;\n",
       "        }    #T_d1178740_e991_11e9_8c51_887873317f76row1_col3 {\n",
       "            background-color:  #1663aa;\n",
       "            color:  #f1f1f1;\n",
       "        }    #T_d1178740_e991_11e9_8c51_887873317f76row2_col2 {\n",
       "            background-color:  #f7fbff;\n",
       "            color:  #000000;\n",
       "        }    #T_d1178740_e991_11e9_8c51_887873317f76row2_col3 {\n",
       "            background-color:  #f7fbff;\n",
       "            color:  #000000;\n",
       "        }</style><table id=\"T_d1178740_e991_11e9_8c51_887873317f76\" ><thead>    <tr>        <th class=\"blank level0\" ></th>        <th class=\"col_heading level0 col0\" colspan=2>train_accuracy</th>        <th class=\"col_heading level0 col2\" colspan=2>test_accuracy</th>        <th class=\"col_heading level0 col4\" colspan=2>overfit%</th>    </tr>    <tr>        <th class=\"blank level1\" ></th>        <th class=\"col_heading level1 col0\" >mean</th>        <th class=\"col_heading level1 col1\" >max</th>        <th class=\"col_heading level1 col2\" >mean</th>        <th class=\"col_heading level1 col3\" >max</th>        <th class=\"col_heading level1 col4\" >mean</th>        <th class=\"col_heading level1 col5\" >max</th>    </tr>    <tr>        <th class=\"index_name level0\" >p</th>        <th class=\"blank\" ></th>        <th class=\"blank\" ></th>        <th class=\"blank\" ></th>        <th class=\"blank\" ></th>        <th class=\"blank\" ></th>        <th class=\"blank\" ></th>    </tr></thead><tbody>\n",
       "                <tr>\n",
       "                        <th id=\"T_d1178740_e991_11e9_8c51_887873317f76level0_row0\" class=\"row_heading level0 row0\" >0.1</th>\n",
       "                        <td id=\"T_d1178740_e991_11e9_8c51_887873317f76row0_col0\" class=\"data row0 col0\" >0.957212</td>\n",
       "                        <td id=\"T_d1178740_e991_11e9_8c51_887873317f76row0_col1\" class=\"data row0 col1\" >1</td>\n",
       "                        <td id=\"T_d1178740_e991_11e9_8c51_887873317f76row0_col2\" class=\"data row0 col2\" >0.86152</td>\n",
       "                        <td id=\"T_d1178740_e991_11e9_8c51_887873317f76row0_col3\" class=\"data row0 col3\" >0.9056</td>\n",
       "                        <td id=\"T_d1178740_e991_11e9_8c51_887873317f76row0_col4\" class=\"data row0 col4\" >10.2852</td>\n",
       "                        <td id=\"T_d1178740_e991_11e9_8c51_887873317f76row0_col5\" class=\"data row0 col5\" >18.75</td>\n",
       "            </tr>\n",
       "            <tr>\n",
       "                        <th id=\"T_d1178740_e991_11e9_8c51_887873317f76level0_row1\" class=\"row_heading level0 row1\" >0.2</th>\n",
       "                        <td id=\"T_d1178740_e991_11e9_8c51_887873317f76row1_col0\" class=\"data row1 col0\" >0.950721</td>\n",
       "                        <td id=\"T_d1178740_e991_11e9_8c51_887873317f76row1_col1\" class=\"data row1 col1\" >1</td>\n",
       "                        <td id=\"T_d1178740_e991_11e9_8c51_887873317f76row1_col2\" class=\"data row1 col2\" >0.8531</td>\n",
       "                        <td id=\"T_d1178740_e991_11e9_8c51_887873317f76row1_col3\" class=\"data row1 col3\" >0.9046</td>\n",
       "                        <td id=\"T_d1178740_e991_11e9_8c51_887873317f76row1_col4\" class=\"data row1 col4\" >10.3754</td>\n",
       "                        <td id=\"T_d1178740_e991_11e9_8c51_887873317f76row1_col5\" class=\"data row1 col5\" >17.49</td>\n",
       "            </tr>\n",
       "            <tr>\n",
       "                        <th id=\"T_d1178740_e991_11e9_8c51_887873317f76level0_row2\" class=\"row_heading level0 row2\" >0.3</th>\n",
       "                        <td id=\"T_d1178740_e991_11e9_8c51_887873317f76row2_col0\" class=\"data row2 col0\" >0.940479</td>\n",
       "                        <td id=\"T_d1178740_e991_11e9_8c51_887873317f76row2_col1\" class=\"data row2 col1\" >1</td>\n",
       "                        <td id=\"T_d1178740_e991_11e9_8c51_887873317f76row2_col2\" class=\"data row2 col2\" >0.838068</td>\n",
       "                        <td id=\"T_d1178740_e991_11e9_8c51_887873317f76row2_col3\" class=\"data row2 col3\" >0.9005</td>\n",
       "                        <td id=\"T_d1178740_e991_11e9_8c51_887873317f76row2_col4\" class=\"data row2 col4\" >11.0407</td>\n",
       "                        <td id=\"T_d1178740_e991_11e9_8c51_887873317f76row2_col5\" class=\"data row2 col5\" >16.45</td>\n",
       "            </tr>\n",
       "    </tbody></table>"
      ],
      "text/plain": [
       "<pandas.io.formats.style.Styler at 0x18bffa822e8>"
      ]
     },
     "execution_count": 134,
     "metadata": {},
     "output_type": "execute_result"
    }
   ],
   "source": [
    "wd_data = data[data.pretrained == \"[True, 'all']\"].groupby(['p'])['train_accuracy', 'test_accuracy', 'overfit%'].agg(['mean', 'max'])\n",
    "\n",
    "(wd_data.style.\n",
    "# background_gradient(subset='overfit%', cmap='Blues').\n",
    "background_gradient(subset='test_accuracy', cmap='Blues'))"
   ]
  },
  {
   "cell_type": "markdown",
   "metadata": {},
   "source": [
    "### Effect of number of dropout layers"
   ]
  },
  {
   "cell_type": "code",
   "execution_count": 216,
   "metadata": {},
   "outputs": [
    {
     "data": {
      "text/html": [
       "<style  type=\"text/css\" >\n",
       "    #T_b1f156d4_e6af_11e9_8c91_887873317f76row0_col1 {\n",
       "            background-color:  #08306b;\n",
       "            color:  #f1f1f1;\n",
       "        }    #T_b1f156d4_e6af_11e9_8c91_887873317f76row1_col1 {\n",
       "            background-color:  #083e81;\n",
       "            color:  #f1f1f1;\n",
       "        }    #T_b1f156d4_e6af_11e9_8c91_887873317f76row2_col1 {\n",
       "            background-color:  #4191c6;\n",
       "            color:  #000000;\n",
       "        }    #T_b1f156d4_e6af_11e9_8c91_887873317f76row3_col1 {\n",
       "            background-color:  #91c3de;\n",
       "            color:  #000000;\n",
       "        }    #T_b1f156d4_e6af_11e9_8c91_887873317f76row4_col1 {\n",
       "            background-color:  #f7fbff;\n",
       "            color:  #000000;\n",
       "        }</style><table id=\"T_b1f156d4_e6af_11e9_8c91_887873317f76\" ><thead>    <tr>        <th class=\"blank level0\" ></th>        <th class=\"col_heading level0 col0\" >train_accuracy</th>        <th class=\"col_heading level0 col1\" >test_accuracy</th>        <th class=\"col_heading level0 col2\" >overfit%</th>    </tr>    <tr>        <th class=\"index_name level0\" >num_drop_layers</th>        <th class=\"blank\" ></th>        <th class=\"blank\" ></th>        <th class=\"blank\" ></th>    </tr></thead><tbody>\n",
       "                <tr>\n",
       "                        <th id=\"T_b1f156d4_e6af_11e9_8c91_887873317f76level0_row0\" class=\"row_heading level0 row0\" >1</th>\n",
       "                        <td id=\"T_b1f156d4_e6af_11e9_8c91_887873317f76row0_col0\" class=\"data row0 col0\" >0.958789</td>\n",
       "                        <td id=\"T_b1f156d4_e6af_11e9_8c91_887873317f76row0_col1\" class=\"data row0 col1\" >0.863848</td>\n",
       "                        <td id=\"T_b1f156d4_e6af_11e9_8c91_887873317f76row0_col2\" class=\"data row0 col2\" >10.2064</td>\n",
       "            </tr>\n",
       "            <tr>\n",
       "                        <th id=\"T_b1f156d4_e6af_11e9_8c91_887873317f76level0_row1\" class=\"row_heading level0 row1\" >2</th>\n",
       "                        <td id=\"T_b1f156d4_e6af_11e9_8c91_887873317f76row1_col0\" class=\"data row1 col0\" >0.957478</td>\n",
       "                        <td id=\"T_b1f156d4_e6af_11e9_8c91_887873317f76row1_col1\" class=\"data row1 col1\" >0.862017</td>\n",
       "                        <td id=\"T_b1f156d4_e6af_11e9_8c91_887873317f76row1_col2\" class=\"data row1 col2\" >10.2388</td>\n",
       "            </tr>\n",
       "            <tr>\n",
       "                        <th id=\"T_b1f156d4_e6af_11e9_8c91_887873317f76level0_row2\" class=\"row_heading level0 row2\" >3</th>\n",
       "                        <td id=\"T_b1f156d4_e6af_11e9_8c91_887873317f76row2_col0\" class=\"data row2 col0\" >0.950647</td>\n",
       "                        <td id=\"T_b1f156d4_e6af_11e9_8c91_887873317f76row2_col1\" class=\"data row2 col1\" >0.851899</td>\n",
       "                        <td id=\"T_b1f156d4_e6af_11e9_8c91_887873317f76row2_col2\" class=\"data row2 col2\" >10.6506</td>\n",
       "            </tr>\n",
       "            <tr>\n",
       "                        <th id=\"T_b1f156d4_e6af_11e9_8c91_887873317f76level0_row3\" class=\"row_heading level0 row3\" >4</th>\n",
       "                        <td id=\"T_b1f156d4_e6af_11e9_8c91_887873317f76row3_col0\" class=\"data row3 col0\" >0.944433</td>\n",
       "                        <td id=\"T_b1f156d4_e6af_11e9_8c91_887873317f76row3_col1\" class=\"data row3 col1\" >0.844872</td>\n",
       "                        <td id=\"T_b1f156d4_e6af_11e9_8c91_887873317f76row3_col2\" class=\"data row3 col2\" >10.6783</td>\n",
       "            </tr>\n",
       "            <tr>\n",
       "                        <th id=\"T_b1f156d4_e6af_11e9_8c91_887873317f76level0_row4\" class=\"row_heading level0 row4\" >5</th>\n",
       "                        <td id=\"T_b1f156d4_e6af_11e9_8c91_887873317f76row4_col0\" class=\"data row4 col0\" >0.936007</td>\n",
       "                        <td id=\"T_b1f156d4_e6af_11e9_8c91_887873317f76row4_col1\" class=\"data row4 col1\" >0.831844</td>\n",
       "                        <td id=\"T_b1f156d4_e6af_11e9_8c91_887873317f76row4_col2\" class=\"data row4 col2\" >11.0614</td>\n",
       "            </tr>\n",
       "    </tbody></table>"
      ],
      "text/plain": [
       "<pandas.io.formats.style.Styler at 0x17f71649e10>"
      ]
     },
     "execution_count": 216,
     "metadata": {},
     "output_type": "execute_result"
    }
   ],
   "source": [
    "wd_data = data[data.pretrained == \"[True, 'all']\"].groupby(['num_drop_layers'])['train_accuracy', 'test_accuracy', 'overfit%'].mean()\n",
    "(wd_data.style.\n",
    "# background_gradient(subset='overfit%', cmap='YlGn').\n",
    "background_gradient(subset='test_accuracy', cmap='Blues'))"
   ]
  },
  {
   "cell_type": "code",
   "execution_count": 217,
   "metadata": {},
   "outputs": [
    {
     "data": {
      "text/html": [
       "<style  type=\"text/css\" >\n",
       "    #T_ddef9226_e6af_11e9_9e08_887873317f76row0_col1 {\n",
       "            background-color:  #08306b;\n",
       "            color:  #f1f1f1;\n",
       "        }    #T_ddef9226_e6af_11e9_9e08_887873317f76row1_col1 {\n",
       "            background-color:  #083e81;\n",
       "            color:  #f1f1f1;\n",
       "        }    #T_ddef9226_e6af_11e9_9e08_887873317f76row2_col1 {\n",
       "            background-color:  #135fa7;\n",
       "            color:  #f1f1f1;\n",
       "        }    #T_ddef9226_e6af_11e9_9e08_887873317f76row3_col1 {\n",
       "            background-color:  #083c7d;\n",
       "            color:  #f1f1f1;\n",
       "        }    #T_ddef9226_e6af_11e9_9e08_887873317f76row4_col1 {\n",
       "            background-color:  #083877;\n",
       "            color:  #f1f1f1;\n",
       "        }    #T_ddef9226_e6af_11e9_9e08_887873317f76row5_col1 {\n",
       "            background-color:  #2171b5;\n",
       "            color:  #f1f1f1;\n",
       "        }    #T_ddef9226_e6af_11e9_9e08_887873317f76row6_col1 {\n",
       "            background-color:  #084e98;\n",
       "            color:  #f1f1f1;\n",
       "        }    #T_ddef9226_e6af_11e9_9e08_887873317f76row7_col1 {\n",
       "            background-color:  #2676b8;\n",
       "            color:  #000000;\n",
       "        }    #T_ddef9226_e6af_11e9_9e08_887873317f76row8_col1 {\n",
       "            background-color:  #63a8d3;\n",
       "            color:  #000000;\n",
       "        }    #T_ddef9226_e6af_11e9_9e08_887873317f76row9_col1 {\n",
       "            background-color:  #08519c;\n",
       "            color:  #f1f1f1;\n",
       "        }    #T_ddef9226_e6af_11e9_9e08_887873317f76row10_col1 {\n",
       "            background-color:  #4594c7;\n",
       "            color:  #000000;\n",
       "        }    #T_ddef9226_e6af_11e9_9e08_887873317f76row11_col1 {\n",
       "            background-color:  #bad6eb;\n",
       "            color:  #000000;\n",
       "        }    #T_ddef9226_e6af_11e9_9e08_887873317f76row12_col1 {\n",
       "            background-color:  #3282be;\n",
       "            color:  #000000;\n",
       "        }    #T_ddef9226_e6af_11e9_9e08_887873317f76row13_col1 {\n",
       "            background-color:  #8cc0dd;\n",
       "            color:  #000000;\n",
       "        }    #T_ddef9226_e6af_11e9_9e08_887873317f76row14_col1 {\n",
       "            background-color:  #f7fbff;\n",
       "            color:  #000000;\n",
       "        }</style><table id=\"T_ddef9226_e6af_11e9_9e08_887873317f76\" ><thead>    <tr>        <th class=\"blank\" ></th>        <th class=\"blank level0\" ></th>        <th class=\"col_heading level0 col0\" >train_accuracy</th>        <th class=\"col_heading level0 col1\" >test_accuracy</th>        <th class=\"col_heading level0 col2\" >overfit%</th>    </tr>    <tr>        <th class=\"index_name level0\" >num_drop_layers</th>        <th class=\"index_name level1\" >p</th>        <th class=\"blank\" ></th>        <th class=\"blank\" ></th>        <th class=\"blank\" ></th>    </tr></thead><tbody>\n",
       "                <tr>\n",
       "                        <th id=\"T_ddef9226_e6af_11e9_9e08_887873317f76level0_row0\" class=\"row_heading level0 row0\" rowspan=3>1</th>\n",
       "                        <th id=\"T_ddef9226_e6af_11e9_9e08_887873317f76level1_row0\" class=\"row_heading level1 row0\" >0.1</th>\n",
       "                        <td id=\"T_ddef9226_e6af_11e9_9e08_887873317f76row0_col0\" class=\"data row0 col0\" >0.96112</td>\n",
       "                        <td id=\"T_ddef9226_e6af_11e9_9e08_887873317f76row0_col1\" class=\"data row0 col1\" >0.868497</td>\n",
       "                        <td id=\"T_ddef9226_e6af_11e9_9e08_887873317f76row0_col2\" class=\"data row0 col2\" >9.86367</td>\n",
       "            </tr>\n",
       "            <tr>\n",
       "                                <th id=\"T_ddef9226_e6af_11e9_9e08_887873317f76level1_row1\" class=\"row_heading level1 row1\" >0.2</th>\n",
       "                        <td id=\"T_ddef9226_e6af_11e9_9e08_887873317f76row1_col0\" class=\"data row1 col0\" >0.95946</td>\n",
       "                        <td id=\"T_ddef9226_e6af_11e9_9e08_887873317f76row1_col1\" class=\"data row1 col1\" >0.865167</td>\n",
       "                        <td id=\"T_ddef9226_e6af_11e9_9e08_887873317f76row1_col2\" class=\"data row1 col2\" >10.1603</td>\n",
       "            </tr>\n",
       "            <tr>\n",
       "                                <th id=\"T_ddef9226_e6af_11e9_9e08_887873317f76level1_row2\" class=\"row_heading level1 row2\" >0.3</th>\n",
       "                        <td id=\"T_ddef9226_e6af_11e9_9e08_887873317f76row2_col0\" class=\"data row2 col0\" >0.955787</td>\n",
       "                        <td id=\"T_ddef9226_e6af_11e9_9e08_887873317f76row2_col1\" class=\"data row2 col1\" >0.85788</td>\n",
       "                        <td id=\"T_ddef9226_e6af_11e9_9e08_887873317f76row2_col2\" class=\"data row2 col2\" >10.5953</td>\n",
       "            </tr>\n",
       "            <tr>\n",
       "                        <th id=\"T_ddef9226_e6af_11e9_9e08_887873317f76level0_row3\" class=\"row_heading level0 row3\" rowspan=3>2</th>\n",
       "                        <th id=\"T_ddef9226_e6af_11e9_9e08_887873317f76level1_row3\" class=\"row_heading level1 row3\" >0.1</th>\n",
       "                        <td id=\"T_ddef9226_e6af_11e9_9e08_887873317f76row3_col0\" class=\"data row3 col0\" >0.961753</td>\n",
       "                        <td id=\"T_ddef9226_e6af_11e9_9e08_887873317f76row3_col1\" class=\"data row3 col1\" >0.865727</td>\n",
       "                        <td id=\"T_ddef9226_e6af_11e9_9e08_887873317f76row3_col2\" class=\"data row3 col2\" >10.3207</td>\n",
       "            </tr>\n",
       "            <tr>\n",
       "                                <th id=\"T_ddef9226_e6af_11e9_9e08_887873317f76level1_row4\" class=\"row_heading level1 row4\" >0.2</th>\n",
       "                        <td id=\"T_ddef9226_e6af_11e9_9e08_887873317f76row4_col0\" class=\"data row4 col0\" >0.958187</td>\n",
       "                        <td id=\"T_ddef9226_e6af_11e9_9e08_887873317f76row4_col1\" class=\"data row4 col1\" >0.866527</td>\n",
       "                        <td id=\"T_ddef9226_e6af_11e9_9e08_887873317f76row4_col2\" class=\"data row4 col2\" >9.616</td>\n",
       "            </tr>\n",
       "            <tr>\n",
       "                                <th id=\"T_ddef9226_e6af_11e9_9e08_887873317f76level1_row5\" class=\"row_heading level1 row5\" >0.3</th>\n",
       "                        <td id=\"T_ddef9226_e6af_11e9_9e08_887873317f76row5_col0\" class=\"data row5 col0\" >0.952493</td>\n",
       "                        <td id=\"T_ddef9226_e6af_11e9_9e08_887873317f76row5_col1\" class=\"data row5 col1\" >0.853797</td>\n",
       "                        <td id=\"T_ddef9226_e6af_11e9_9e08_887873317f76row5_col2\" class=\"data row5 col2\" >10.7797</td>\n",
       "            </tr>\n",
       "            <tr>\n",
       "                        <th id=\"T_ddef9226_e6af_11e9_9e08_887873317f76level0_row6\" class=\"row_heading level0 row6\" rowspan=3>3</th>\n",
       "                        <th id=\"T_ddef9226_e6af_11e9_9e08_887873317f76level1_row6\" class=\"row_heading level1 row6\" >0.1</th>\n",
       "                        <td id=\"T_ddef9226_e6af_11e9_9e08_887873317f76row6_col0\" class=\"data row6 col0\" >0.958633</td>\n",
       "                        <td id=\"T_ddef9226_e6af_11e9_9e08_887873317f76row6_col1\" class=\"data row6 col1\" >0.861863</td>\n",
       "                        <td id=\"T_ddef9226_e6af_11e9_9e08_887873317f76row6_col2\" class=\"data row6 col2\" >10.4423</td>\n",
       "            </tr>\n",
       "            <tr>\n",
       "                                <th id=\"T_ddef9226_e6af_11e9_9e08_887873317f76level1_row7\" class=\"row_heading level1 row7\" >0.2</th>\n",
       "                        <td id=\"T_ddef9226_e6af_11e9_9e08_887873317f76row7_col0\" class=\"data row7 col0\" >0.9499</td>\n",
       "                        <td id=\"T_ddef9226_e6af_11e9_9e08_887873317f76row7_col1\" class=\"data row7 col1\" >0.85284</td>\n",
       "                        <td id=\"T_ddef9226_e6af_11e9_9e08_887873317f76row7_col2\" class=\"data row7 col2\" >10.445</td>\n",
       "            </tr>\n",
       "            <tr>\n",
       "                                <th id=\"T_ddef9226_e6af_11e9_9e08_887873317f76level1_row8\" class=\"row_heading level1 row8\" >0.3</th>\n",
       "                        <td id=\"T_ddef9226_e6af_11e9_9e08_887873317f76row8_col0\" class=\"data row8 col0\" >0.943407</td>\n",
       "                        <td id=\"T_ddef9226_e6af_11e9_9e08_887873317f76row8_col1\" class=\"data row8 col1\" >0.840993</td>\n",
       "                        <td id=\"T_ddef9226_e6af_11e9_9e08_887873317f76row8_col2\" class=\"data row8 col2\" >11.0643</td>\n",
       "            </tr>\n",
       "            <tr>\n",
       "                        <th id=\"T_ddef9226_e6af_11e9_9e08_887873317f76level0_row9\" class=\"row_heading level0 row9\" rowspan=3>4</th>\n",
       "                        <th id=\"T_ddef9226_e6af_11e9_9e08_887873317f76level1_row9\" class=\"row_heading level1 row9\" >0.1</th>\n",
       "                        <td id=\"T_ddef9226_e6af_11e9_9e08_887873317f76row9_col0\" class=\"data row9 col0\" >0.954527</td>\n",
       "                        <td id=\"T_ddef9226_e6af_11e9_9e08_887873317f76row9_col1\" class=\"data row9 col1\" >0.861187</td>\n",
       "                        <td id=\"T_ddef9226_e6af_11e9_9e08_887873317f76row9_col2\" class=\"data row9 col2\" >10.0733</td>\n",
       "            </tr>\n",
       "            <tr>\n",
       "                                <th id=\"T_ddef9226_e6af_11e9_9e08_887873317f76level1_row10\" class=\"row_heading level1 row10\" >0.2</th>\n",
       "                        <td id=\"T_ddef9226_e6af_11e9_9e08_887873317f76row10_col0\" class=\"data row10 col0\" >0.945307</td>\n",
       "                        <td id=\"T_ddef9226_e6af_11e9_9e08_887873317f76row10_col1\" class=\"data row10 col1\" >0.84623</td>\n",
       "                        <td id=\"T_ddef9226_e6af_11e9_9e08_887873317f76row10_col2\" class=\"data row10 col2\" >10.601</td>\n",
       "            </tr>\n",
       "            <tr>\n",
       "                                <th id=\"T_ddef9226_e6af_11e9_9e08_887873317f76level1_row11\" class=\"row_heading level1 row11\" >0.3</th>\n",
       "                        <td id=\"T_ddef9226_e6af_11e9_9e08_887873317f76row11_col0\" class=\"data row11 col0\" >0.933467</td>\n",
       "                        <td id=\"T_ddef9226_e6af_11e9_9e08_887873317f76row11_col1\" class=\"data row11 col1\" >0.8272</td>\n",
       "                        <td id=\"T_ddef9226_e6af_11e9_9e08_887873317f76row11_col2\" class=\"data row11 col2\" >11.3607</td>\n",
       "            </tr>\n",
       "            <tr>\n",
       "                        <th id=\"T_ddef9226_e6af_11e9_9e08_887873317f76level0_row12\" class=\"row_heading level0 row12\" rowspan=3>5</th>\n",
       "                        <th id=\"T_ddef9226_e6af_11e9_9e08_887873317f76level1_row12\" class=\"row_heading level1 row12\" >0.1</th>\n",
       "                        <td id=\"T_ddef9226_e6af_11e9_9e08_887873317f76row12_col0\" class=\"data row12 col0\" >0.950027</td>\n",
       "                        <td id=\"T_ddef9226_e6af_11e9_9e08_887873317f76row12_col1\" class=\"data row12 col1\" >0.850327</td>\n",
       "                        <td id=\"T_ddef9226_e6af_11e9_9e08_887873317f76row12_col2\" class=\"data row12 col2\" >10.726</td>\n",
       "            </tr>\n",
       "            <tr>\n",
       "                                <th id=\"T_ddef9226_e6af_11e9_9e08_887873317f76level1_row13\" class=\"row_heading level1 row13\" >0.2</th>\n",
       "                        <td id=\"T_ddef9226_e6af_11e9_9e08_887873317f76row13_col0\" class=\"data row13 col0\" >0.940753</td>\n",
       "                        <td id=\"T_ddef9226_e6af_11e9_9e08_887873317f76row13_col1\" class=\"data row13 col1\" >0.834737</td>\n",
       "                        <td id=\"T_ddef9226_e6af_11e9_9e08_887873317f76row13_col2\" class=\"data row13 col2\" >11.0547</td>\n",
       "            </tr>\n",
       "            <tr>\n",
       "                                <th id=\"T_ddef9226_e6af_11e9_9e08_887873317f76level1_row14\" class=\"row_heading level1 row14\" >0.3</th>\n",
       "                        <td id=\"T_ddef9226_e6af_11e9_9e08_887873317f76row14_col0\" class=\"data row14 col0\" >0.91724</td>\n",
       "                        <td id=\"T_ddef9226_e6af_11e9_9e08_887873317f76row14_col1\" class=\"data row14 col1\" >0.81047</td>\n",
       "                        <td id=\"T_ddef9226_e6af_11e9_9e08_887873317f76row14_col2\" class=\"data row14 col2\" >11.4037</td>\n",
       "            </tr>\n",
       "    </tbody></table>"
      ],
      "text/plain": [
       "<pandas.io.formats.style.Styler at 0x17f7127f898>"
      ]
     },
     "execution_count": 217,
     "metadata": {},
     "output_type": "execute_result"
    }
   ],
   "source": [
    "wd_data = data[data.pretrained == \"[True, 'all']\"].groupby(['num_drop_layers', 'p'])['train_accuracy', 'test_accuracy', 'overfit%'].mean()\n",
    "(wd_data.style.\n",
    "# background_gradient(subset='overfit%', cmap='YlGn').\n",
    "background_gradient(subset='test_accuracy', cmap='Blues'))"
   ]
  }
 ],
 "metadata": {
  "kernelspec": {
   "display_name": "Python 3",
   "language": "python",
   "name": "python3"
  },
  "language_info": {
   "codemirror_mode": {
    "name": "ipython",
    "version": 3
   },
   "file_extension": ".py",
   "mimetype": "text/x-python",
   "name": "python",
   "nbconvert_exporter": "python",
   "pygments_lexer": "ipython3",
   "version": "3.7.3"
  }
 },
 "nbformat": 4,
 "nbformat_minor": 2
}
